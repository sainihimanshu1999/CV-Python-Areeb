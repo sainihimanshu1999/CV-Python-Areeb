{
 "cells": [
  {
   "cell_type": "code",
   "execution_count": 1,
   "id": "feb2a0c2",
   "metadata": {},
   "outputs": [],
   "source": [
    "import sqlite3"
   ]
  },
  {
   "cell_type": "code",
   "execution_count": 2,
   "id": "ab0592b2",
   "metadata": {},
   "outputs": [],
   "source": [
    "connection = sqlite3.connect('areeb.db')"
   ]
  },
  {
   "cell_type": "code",
   "execution_count": 3,
   "id": "1dd15673",
   "metadata": {},
   "outputs": [],
   "source": [
    "crsr = connection.cursor()"
   ]
  },
  {
   "cell_type": "code",
   "execution_count": 4,
   "id": "9a1a55db",
   "metadata": {},
   "outputs": [],
   "source": [
    "sql_command = '''CREATE TABLE emp (\n",
    "staff_number INTEGER PRIMARY KEY,\n",
    "fname VARCHAR(20),\n",
    "lname VARCHAR(30),\n",
    "gender CHAR(1),\n",
    "joining DATE)'''"
   ]
  },
  {
   "cell_type": "code",
   "execution_count": 6,
   "id": "ce67bdfb",
   "metadata": {},
   "outputs": [
    {
     "data": {
      "text/plain": [
       "<sqlite3.Cursor at 0x7ff90c357110>"
      ]
     },
     "execution_count": 6,
     "metadata": {},
     "output_type": "execute_result"
    }
   ],
   "source": [
    "crsr.execute(sql_command)"
   ]
  },
  {
   "cell_type": "code",
   "execution_count": 7,
   "id": "8ae60805",
   "metadata": {},
   "outputs": [],
   "source": [
    "sql_command = '''INSERT INTO emp VALUES(1,'Areeb','Dps','M','2022-04-04')'''"
   ]
  },
  {
   "cell_type": "code",
   "execution_count": 8,
   "id": "0f2c2540",
   "metadata": {},
   "outputs": [
    {
     "data": {
      "text/plain": [
       "<sqlite3.Cursor at 0x7ff90c357110>"
      ]
     },
     "execution_count": 8,
     "metadata": {},
     "output_type": "execute_result"
    }
   ],
   "source": [
    "crsr.execute(sql_command)"
   ]
  },
  {
   "cell_type": "code",
   "execution_count": 9,
   "id": "3373311d",
   "metadata": {},
   "outputs": [],
   "source": [
    "sql_command = '''INSERT INTO emp VALUES(2,'Himanshu','Saini','M','2022-04-04')'''"
   ]
  },
  {
   "cell_type": "code",
   "execution_count": 10,
   "id": "bc0a4afc",
   "metadata": {},
   "outputs": [
    {
     "data": {
      "text/plain": [
       "<sqlite3.Cursor at 0x7ff90c357110>"
      ]
     },
     "execution_count": 10,
     "metadata": {},
     "output_type": "execute_result"
    }
   ],
   "source": [
    "crsr.execute(sql_command)"
   ]
  },
  {
   "cell_type": "code",
   "execution_count": 11,
   "id": "06fe1059",
   "metadata": {},
   "outputs": [],
   "source": [
    "connection.commit()"
   ]
  },
  {
   "cell_type": "code",
   "execution_count": 14,
   "id": "9537e356",
   "metadata": {},
   "outputs": [],
   "source": [
    "connection.close()"
   ]
  },
  {
   "cell_type": "code",
   "execution_count": 15,
   "id": "07bddfa7",
   "metadata": {},
   "outputs": [],
   "source": [
    "def submit():\n",
    "    connection = sqlite3.connect('areeb.db')\n",
    "    crsr = connection.cursor()\n",
    "    \n",
    "    crsr.execute(\"INSERT INTO emp VALUES(:Staffno, :f_name, :l_name, :Gender, :DOJi)\",\n",
    "                 {\n",
    "                     'Staffno': Staffno.get(),\n",
    "                     'f_name':f_name.get(),\n",
    "                     'l_name':l_name.get(),\n",
    "                     'Gender':Gender.get(),\n",
    "                     'DOJi':DOJi.get()\n",
    "                 }\n",
    "                )\n",
    "    \n",
    "    connection.commit()\n",
    "    connection.close()\n",
    "    \n",
    "    Staffno.delete(0,END)\n",
    "    f_name.delete(0,END)\n",
    "    l_name.delete(0,END)\n",
    "    Gender.delete(0,END)\n",
    "    DOJi.delete(0,END)"
   ]
  },
  {
   "cell_type": "code",
   "execution_count": 25,
   "id": "2c80d131",
   "metadata": {},
   "outputs": [],
   "source": [
    "from tkinter import *"
   ]
  },
  {
   "cell_type": "code",
   "execution_count": 26,
   "id": "446f9493",
   "metadata": {},
   "outputs": [],
   "source": [
    "root = Tk()"
   ]
  },
  {
   "cell_type": "code",
   "execution_count": 27,
   "id": "d8e1b2a6",
   "metadata": {},
   "outputs": [],
   "source": [
    "Staffno = Entry(root,width=30)\n",
    "Staffno.grid(row=0,column=1,padx=20)\n",
    "\n",
    "f_name = Entry(root,width=30)\n",
    "f_name.grid(row=1,column=1,padx=20)\n",
    "\n",
    "l_name = Entry(root,width=30)\n",
    "l_name.grid(row=2,column=1,padx=20)\n",
    "\n",
    "Gender = Entry(root,width=30)\n",
    "Gender.grid(row=3,column=1,padx=20)\n",
    "\n",
    "DOJi = Entry(root,width=30)\n",
    "DOJi.grid(row=4,column=1,padx=20)"
   ]
  },
  {
   "cell_type": "code",
   "execution_count": 28,
   "id": "f5c09ae9",
   "metadata": {},
   "outputs": [],
   "source": [
    "Staffno_label = Label(root,text='Staff number')\n",
    "Staffno_label.grid(row=0,column=0)\n",
    "\n",
    "\n",
    "fname_label = Label(root,text='First Name')\n",
    "fname_label.grid(row=1,column=0)\n",
    "\n",
    "\n",
    "lname_label = Label(root,text='Last Name')\n",
    "lname_label.grid(row=2,column=0)\n",
    "\n",
    "\n",
    "Gender_label = Label(root,text='Gender')\n",
    "Gender_label.grid(row=3,column=0)\n",
    "\n",
    "\n",
    "DOJi_label = Label(root,text='Joining')\n",
    "DOJi_label.grid(row=4,column=0)"
   ]
  },
  {
   "cell_type": "code",
   "execution_count": 29,
   "id": "6255de20",
   "metadata": {},
   "outputs": [],
   "source": [
    "Button(root,text='add this record to the database', command=submit).grid(row=5,columnspan=2,pady=10,padx=20,ipadx=100)"
   ]
  },
  {
   "cell_type": "code",
   "execution_count": 30,
   "id": "2040c342",
   "metadata": {},
   "outputs": [],
   "source": [
    "root.mainloop()"
   ]
  },
  {
   "cell_type": "code",
   "execution_count": null,
   "id": "184f5b8b",
   "metadata": {},
   "outputs": [],
   "source": []
  }
 ],
 "metadata": {
  "kernelspec": {
   "display_name": "Python 3 (ipykernel)",
   "language": "python",
   "name": "python3"
  },
  "language_info": {
   "codemirror_mode": {
    "name": "ipython",
    "version": 3
   },
   "file_extension": ".py",
   "mimetype": "text/x-python",
   "name": "python",
   "nbconvert_exporter": "python",
   "pygments_lexer": "ipython3",
   "version": "3.9.7"
  }
 },
 "nbformat": 4,
 "nbformat_minor": 5
}
