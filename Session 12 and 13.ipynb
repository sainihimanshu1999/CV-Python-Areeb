{
 "cells": [
  {
   "cell_type": "code",
   "execution_count": 1,
   "id": "3746eb0c",
   "metadata": {},
   "outputs": [],
   "source": [
    "#TIC TAC TOE GAME"
   ]
  },
  {
   "cell_type": "code",
   "execution_count": 2,
   "id": "7464a80f",
   "metadata": {},
   "outputs": [],
   "source": [
    "d = {1:' ', 2:' ',3:' ',4:' ',5:' ',6:' ',7:' ',8:' ',9:' '}"
   ]
  },
  {
   "cell_type": "code",
   "execution_count": 3,
   "id": "34d6e256",
   "metadata": {},
   "outputs": [],
   "source": [
    "# function for displaying the row\n",
    "def display_row(d,row_number):\n",
    "    print(\"     |     |     \")\n",
    "    print(\"  \",d[1 + 3*(row_number-1)],\"  \",\"|  \",d[2+3*(row_number-1)],\"  \",\"|  \",d[3+3*(row_number-1)],\"  \",sep ='')\n",
    "    print(\"     |     |     \")"
   ]
  },
  {
   "cell_type": "code",
   "execution_count": 4,
   "id": "51a6b115",
   "metadata": {},
   "outputs": [
    {
     "name": "stdout",
     "output_type": "stream",
     "text": [
      "     |     |     \n",
      "     |     |     \n",
      "     |     |     \n"
     ]
    }
   ],
   "source": [
    "display_row(d,1)"
   ]
  },
  {
   "cell_type": "code",
   "execution_count": 5,
   "id": "e4ed24bf",
   "metadata": {},
   "outputs": [],
   "source": [
    "# displaying the horizontal line"
   ]
  },
  {
   "cell_type": "code",
   "execution_count": 6,
   "id": "0a7468db",
   "metadata": {},
   "outputs": [],
   "source": [
    "def display_horizontal_line(n):\n",
    "    for i in range(n):\n",
    "        print('=',end='')\n",
    "    print(' ')"
   ]
  },
  {
   "cell_type": "code",
   "execution_count": 7,
   "id": "3e3ff212",
   "metadata": {
    "scrolled": true
   },
   "outputs": [
    {
     "name": "stdout",
     "output_type": "stream",
     "text": [
      "===================================== \n"
     ]
    }
   ],
   "source": [
    "display_horizontal_line(37)"
   ]
  },
  {
   "cell_type": "code",
   "execution_count": 8,
   "id": "1ddd4d8c",
   "metadata": {},
   "outputs": [],
   "source": [
    "# function to make the tic tac toe board"
   ]
  },
  {
   "cell_type": "code",
   "execution_count": 9,
   "id": "98838a64",
   "metadata": {},
   "outputs": [],
   "source": [
    "def display_board(d):\n",
    "    for i in range(1,4):\n",
    "        display_row(d,i)\n",
    "        if i<3:\n",
    "            display_horizontal_line(17)"
   ]
  },
  {
   "cell_type": "code",
   "execution_count": 10,
   "id": "15a85994",
   "metadata": {},
   "outputs": [
    {
     "name": "stdout",
     "output_type": "stream",
     "text": [
      "     |     |     \n",
      "     |     |     \n",
      "     |     |     \n",
      "================= \n",
      "     |     |     \n",
      "     |     |     \n",
      "     |     |     \n",
      "================= \n",
      "     |     |     \n",
      "     |     |     \n",
      "     |     |     \n"
     ]
    }
   ],
   "source": [
    "display_board(d)"
   ]
  },
  {
   "cell_type": "code",
   "execution_count": 11,
   "id": "325eab32",
   "metadata": {},
   "outputs": [],
   "source": [
    "#this function will take the input\n",
    "#First it asks the name of the first player\n",
    "#then it asks what symbol 1st player will choose\n",
    "# then it asks for the name of the second player and allot the remaining symbol to him/her"
   ]
  },
  {
   "cell_type": "code",
   "execution_count": 12,
   "id": "1ec702ad",
   "metadata": {},
   "outputs": [],
   "source": [
    "def player_name():\n",
    "    user_1 = input('Hi please enter your name')\n",
    "    print('Hi', user_1)\n",
    "    user_1_char = input('Please choose your character from x or o')\n",
    "        \n",
    "    user_2 = input('Hi please enter player 2 name')\n",
    "    \n",
    "    if user_1_char == 'x':\n",
    "        user_2_char = 'o'\n",
    "    else:\n",
    "        user_2_char = 'x'\n",
    "        \n",
    "    print(user_1,'choosed',user_1_char)\n",
    "    print(user_2,'choosed',user_2_char)\n",
    "    \n",
    "    return((user_1,user_1_char),(user_2,user_2_char))\n",
    "        \n",
    "    \n",
    "        \n",
    "        "
   ]
  },
  {
   "cell_type": "code",
   "execution_count": 13,
   "id": "379f7009",
   "metadata": {},
   "outputs": [
    {
     "name": "stdout",
     "output_type": "stream",
     "text": [
      "Hi please enter your nameAreeb\n",
      "Hi Areeb\n",
      "Please choose your character from x or ox\n",
      "Hi please enter player 2 nameHimanshu\n",
      "Areeb choosed x\n",
      "Himanshu choosed o\n"
     ]
    },
    {
     "data": {
      "text/plain": [
       "(('Areeb', 'x'), ('Himanshu', 'o'))"
      ]
     },
     "execution_count": 13,
     "metadata": {},
     "output_type": "execute_result"
    }
   ],
   "source": [
    "player_name()\n"
   ]
  },
  {
   "cell_type": "code",
   "execution_count": 14,
   "id": "a6b820d8",
   "metadata": {},
   "outputs": [],
   "source": [
    "# check whether all the characters in the row are same"
   ]
  },
  {
   "cell_type": "code",
   "execution_count": 15,
   "id": "7fa005f0",
   "metadata": {},
   "outputs": [],
   "source": [
    "def row_check(d,char,i):\n",
    "    if d[1+i*3]== char and d[2+i*3]==char and d[3+i*3]==char:\n",
    "        return True\n",
    "    else:\n",
    "        return False\n",
    "# first row i = 0 char = x d = {1:x2:x3:x,}"
   ]
  },
  {
   "cell_type": "code",
   "execution_count": 16,
   "id": "489f05a7",
   "metadata": {},
   "outputs": [],
   "source": [
    "# check whether all the characters in the col are same"
   ]
  },
  {
   "cell_type": "code",
   "execution_count": 17,
   "id": "5c177a59",
   "metadata": {},
   "outputs": [],
   "source": [
    "def column_check(d,char,i):\n",
    "    if d[i+1]==char and  d[i+4] == char and d[i+7]==char:\n",
    "        return True\n",
    "    else:\n",
    "        return False"
   ]
  },
  {
   "cell_type": "code",
   "execution_count": 18,
   "id": "c821ad8c",
   "metadata": {},
   "outputs": [],
   "source": [
    "# check for the diagonal 1"
   ]
  },
  {
   "cell_type": "code",
   "execution_count": 19,
   "id": "ae2c13ad",
   "metadata": {},
   "outputs": [],
   "source": [
    "def diag1_check(d,char):\n",
    "    if d[1]==char and d[5]==char and d[9]==char:\n",
    "        return True\n",
    "    else:\n",
    "        return False\n",
    "    "
   ]
  },
  {
   "cell_type": "code",
   "execution_count": 20,
   "id": "a9ecfa4e",
   "metadata": {},
   "outputs": [],
   "source": [
    "# check for the diagonal 2"
   ]
  },
  {
   "cell_type": "code",
   "execution_count": 21,
   "id": "15f9f858",
   "metadata": {},
   "outputs": [],
   "source": [
    "def diag2_check(d,char):\n",
    "    if d[3]==char and d[5]==char and d[7]==char:\n",
    "        return True\n",
    "    else:\n",
    "        False"
   ]
  },
  {
   "cell_type": "code",
   "execution_count": 22,
   "id": "1cf419d2",
   "metadata": {},
   "outputs": [],
   "source": [
    "# all the char in the row are same\n",
    "# all the char in the col are same\n",
    "# all the char in the diagonal are same\n",
    "\n",
    "# this function return wheter a player wins or not after this move\n"
   ]
  },
  {
   "cell_type": "code",
   "execution_count": 23,
   "id": "c992d3cf",
   "metadata": {},
   "outputs": [],
   "source": [
    "def won(d,char):\n",
    "    flag = 0\n",
    "    \n",
    "    for i in range(3):\n",
    "        if row_check(d,char,i) == True:\n",
    "            flag = 1\n",
    "        if column_check(d,char,i) == True:\n",
    "            flag = 1\n",
    "    \n",
    "    \n",
    "    if diag1_check(d,char) == True or diag2_check(d,char)==True:\n",
    "        flag = 1\n",
    "        \n",
    "    if flag == 1:\n",
    "        return True\n",
    "    else:\n",
    "        return False\n",
    "    \n",
    "        \n",
    "    \n",
    "    "
   ]
  },
  {
   "cell_type": "code",
   "execution_count": 24,
   "id": "538a709f",
   "metadata": {},
   "outputs": [],
   "source": [
    "# check wheter the matrix is full or not\n",
    "\n",
    "def complete(d):\n",
    "    flag = 1\n",
    "    for i in range(1,10):\n",
    "        if d[i] ==' ':\n",
    "            flag =0\n",
    "    \n",
    "    if flag == 0:\n",
    "        return False\n",
    "    else:\n",
    "        return True"
   ]
  },
  {
   "cell_type": "code",
   "execution_count": 25,
   "id": "ef842c57",
   "metadata": {},
   "outputs": [
    {
     "name": "stdout",
     "output_type": "stream",
     "text": [
      "Hi please enter your nameAreeb\n",
      "Hi Areeb\n",
      "Please choose your character from x or oo\n",
      "Hi please enter player 2 nameHimanshu\n",
      "Areeb choosed o\n",
      "Himanshu choosed x\n"
     ]
    }
   ],
   "source": [
    "(user_1,user_1_char),(user_2,user_2_char) = player_name()"
   ]
  },
  {
   "cell_type": "code",
   "execution_count": 26,
   "id": "9bcf6642",
   "metadata": {},
   "outputs": [
    {
     "name": "stdout",
     "output_type": "stream",
     "text": [
      "     |     |     \n",
      "  1  |  2  |  3  \n",
      "     |     |     \n",
      "================= \n",
      "     |     |     \n",
      "  4  |  5  |  6  \n",
      "     |     |     \n",
      "================= \n",
      "     |     |     \n",
      "  7  |  8  |  9  \n",
      "     |     |     \n"
     ]
    }
   ],
   "source": [
    "# example of the board\n",
    "ref = {1:'1',2:'2',3:'3',4:'4',5:'5',6:'6',7:'7',8:'8',9:'9'}\n",
    "display_board(ref)"
   ]
  },
  {
   "cell_type": "code",
   "execution_count": 31,
   "id": "f75bb40e",
   "metadata": {},
   "outputs": [
    {
     "name": "stdout",
     "output_type": "stream",
     "text": [
      "     |     |     \n",
      "     |     |     \n",
      "     |     |     \n",
      "================= \n",
      "     |     |     \n",
      "     |     |     \n",
      "     |     |     \n",
      "================= \n",
      "     |     |     \n",
      "     |     |     \n",
      "     |     |     \n",
      "Areeb Please select a cell from 1 to 9 to put your character o\n",
      "1\n",
      "     |     |     \n",
      "  o  |     |     \n",
      "     |     |     \n",
      "================= \n",
      "     |     |     \n",
      "     |     |     \n",
      "     |     |     \n",
      "================= \n",
      "     |     |     \n",
      "     |     |     \n",
      "     |     |     \n",
      "Himanshu Please select a cell from 1 to 9 to put your character x\n",
      "5\n",
      "     |     |     \n",
      "  o  |     |     \n",
      "     |     |     \n",
      "================= \n",
      "     |     |     \n",
      "     |  x  |     \n",
      "     |     |     \n",
      "================= \n",
      "     |     |     \n",
      "     |     |     \n",
      "     |     |     \n",
      "Areeb Please select a cell from 1 to 9 to put your character o\n",
      "2\n",
      "     |     |     \n",
      "  o  |  o  |     \n",
      "     |     |     \n",
      "================= \n",
      "     |     |     \n",
      "     |  x  |     \n",
      "     |     |     \n",
      "================= \n",
      "     |     |     \n",
      "     |     |     \n",
      "     |     |     \n",
      "Himanshu Please select a cell from 1 to 9 to put your character x\n",
      "3\n",
      "     |     |     \n",
      "  o  |  o  |  x  \n",
      "     |     |     \n",
      "================= \n",
      "     |     |     \n",
      "     |  x  |     \n",
      "     |     |     \n",
      "================= \n",
      "     |     |     \n",
      "     |     |     \n",
      "     |     |     \n",
      "Areeb Please select a cell from 1 to 9 to put your character o\n",
      "7\n",
      "     |     |     \n",
      "  o  |  o  |  x  \n",
      "     |     |     \n",
      "================= \n",
      "     |     |     \n",
      "     |  x  |     \n",
      "     |     |     \n",
      "================= \n",
      "     |     |     \n",
      "  o  |     |     \n",
      "     |     |     \n",
      "Himanshu Please select a cell from 1 to 9 to put your character x\n",
      "9\n",
      "     |     |     \n",
      "  o  |  o  |  x  \n",
      "     |     |     \n",
      "================= \n",
      "     |     |     \n",
      "     |  x  |     \n",
      "     |     |     \n",
      "================= \n",
      "     |     |     \n",
      "  o  |     |  x  \n",
      "     |     |     \n",
      "Areeb Please select a cell from 1 to 9 to put your character o\n",
      "4\n",
      "     |     |     \n",
      "  o  |  o  |  x  \n",
      "     |     |     \n",
      "================= \n",
      "     |     |     \n",
      "  o  |  x  |     \n",
      "     |     |     \n",
      "================= \n",
      "     |     |     \n",
      "  o  |     |  x  \n",
      "     |     |     \n",
      "Congrats Areeb Won\n"
     ]
    }
   ],
   "source": [
    "# player is one\n",
    "player = 1\n",
    "\n",
    "d = {1:' ',2:' ',3:' ',4:' ',5:' ',6:' ',7:' ',8:' ',9:' '}\n",
    "display_board(d)\n",
    "while True:\n",
    "    if player == 1: #first conditon to move our player\n",
    "        print(user_1, 'Please select a cell from 1 to 9 to put your character', user_1_char)\n",
    "        place = int(input())\n",
    "        \n",
    "        ls = [1,2,3,4,5,6,7,8,9]\n",
    "        \n",
    "        flag1 = 1\n",
    "        flag2 = 1\n",
    "        \n",
    "        while flag1 == 1  or flag2 == 1:\n",
    "            if place not in ls:\n",
    "                print('you have not chosen a number from 1 to 9, please choose again')\n",
    "                place = int(input('Try again'))\n",
    "                continue\n",
    "            else:\n",
    "                flag1 = 0\n",
    "                \n",
    "            if d[place] != ' ':\n",
    "                print('This place is already filled')\n",
    "                place = int(input('Try again'))\n",
    "                continue\n",
    "                \n",
    "            else:\n",
    "                flag2 = 0\n",
    "                \n",
    "            \n",
    "        d[place] = user_1_char\n",
    "        display_board(d)\n",
    "        \n",
    "        if won(d,user_1_char)== True:\n",
    "            print('Congrats',user_1,'Won')\n",
    "            break\n",
    "            \n",
    "            \n",
    "        player = 2\n",
    "        \n",
    "    else:\n",
    "        print(user_2, 'Please select a cell from 1 to 9 to put your character', user_2_char)\n",
    "        place = int(input())\n",
    "        \n",
    "        ls = [1,2,3,4,5,6,7,8,9]\n",
    "        \n",
    "        flag1 = 1\n",
    "        flag2 = 1\n",
    "        \n",
    "        while flag1 == 1  or flag2 == 1:\n",
    "            if place not in ls:\n",
    "                print('you have not chosen a number from 1 to 9, please choose again')\n",
    "                place = int(input('Try again'))\n",
    "                continue\n",
    "            else:\n",
    "                flag1 = 0\n",
    "                \n",
    "            if d[place] != ' ':\n",
    "                print('This place is already filled')\n",
    "                place = int(input('Try again'))\n",
    "                continue\n",
    "                \n",
    "            else:\n",
    "                flag2 = 0\n",
    "                \n",
    "            \n",
    "        d[place] = user_2_char\n",
    "        display_board(d)\n",
    "        \n",
    "        if won(d,user_2_char)== True:\n",
    "            print('Congrats',user_2,'Won')\n",
    "            break\n",
    "            \n",
    "        player = 1\n",
    "        \n",
    "    if complete(d):\n",
    "        print('Match DRAW!!!')\n",
    "        break\n",
    "                \n",
    "                \n",
    "                \n",
    "            \n",
    "                \n",
    "            \n",
    "        \n",
    "        \n",
    "        \n"
   ]
  },
  {
   "cell_type": "code",
   "execution_count": null,
   "id": "b0ae51cf",
   "metadata": {},
   "outputs": [],
   "source": []
  },
  {
   "cell_type": "code",
   "execution_count": null,
   "id": "7ec5481f",
   "metadata": {},
   "outputs": [],
   "source": []
  },
  {
   "cell_type": "code",
   "execution_count": null,
   "id": "58a6c5ef",
   "metadata": {},
   "outputs": [],
   "source": []
  },
  {
   "cell_type": "code",
   "execution_count": null,
   "id": "7cb76942",
   "metadata": {},
   "outputs": [],
   "source": []
  },
  {
   "cell_type": "code",
   "execution_count": null,
   "id": "0ccf7c44",
   "metadata": {},
   "outputs": [],
   "source": []
  },
  {
   "cell_type": "code",
   "execution_count": null,
   "id": "45cc001d",
   "metadata": {},
   "outputs": [],
   "source": []
  },
  {
   "cell_type": "code",
   "execution_count": null,
   "id": "13622d95",
   "metadata": {},
   "outputs": [],
   "source": []
  },
  {
   "cell_type": "code",
   "execution_count": null,
   "id": "91267914",
   "metadata": {},
   "outputs": [],
   "source": []
  },
  {
   "cell_type": "code",
   "execution_count": null,
   "id": "036ff170",
   "metadata": {},
   "outputs": [],
   "source": []
  }
 ],
 "metadata": {
  "kernelspec": {
   "display_name": "Python 3 (ipykernel)",
   "language": "python",
   "name": "python3"
  },
  "language_info": {
   "codemirror_mode": {
    "name": "ipython",
    "version": 3
   },
   "file_extension": ".py",
   "mimetype": "text/x-python",
   "name": "python",
   "nbconvert_exporter": "python",
   "pygments_lexer": "ipython3",
   "version": "3.9.7"
  }
 },
 "nbformat": 4,
 "nbformat_minor": 5
}
