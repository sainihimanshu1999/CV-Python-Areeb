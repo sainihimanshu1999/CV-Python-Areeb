{
 "cells": [
  {
   "cell_type": "code",
   "execution_count": 1,
   "id": "cb3e500a",
   "metadata": {},
   "outputs": [],
   "source": [
    "#checkboxes"
   ]
  },
  {
   "cell_type": "code",
   "execution_count": 10,
   "id": "61b6cc9e",
   "metadata": {},
   "outputs": [],
   "source": [
    "from tkinter import *"
   ]
  },
  {
   "cell_type": "code",
   "execution_count": 11,
   "id": "6cbdae08",
   "metadata": {},
   "outputs": [],
   "source": [
    "root = Tk()"
   ]
  },
  {
   "cell_type": "code",
   "execution_count": 12,
   "id": "9ef077e0",
   "metadata": {},
   "outputs": [],
   "source": [
    "w = Label(root,text='Favourite Food',font='50')\n",
    "w.pack()"
   ]
  },
  {
   "cell_type": "code",
   "execution_count": 13,
   "id": "ec9d7ad1",
   "metadata": {},
   "outputs": [],
   "source": [
    "ckbtn1 = IntVar()\n",
    "ckbtn2 = IntVar()\n",
    "ckbtn3 = IntVar()"
   ]
  },
  {
   "cell_type": "code",
   "execution_count": 14,
   "id": "3caf1e0a",
   "metadata": {},
   "outputs": [],
   "source": [
    "Button1 = Checkbutton(root,text='Pizza',variable = ckbtn1,onvalue=1,offvalue=0,height=2,width=10 )\n",
    "Button2 = Checkbutton(root,text='ice cream',variable = ckbtn2,onvalue=1,offvalue=0,height=2,width=10 )\n",
    "Button3 = Checkbutton(root,text='burger',variable = ckbtn3,onvalue=1,offvalue=0,height=2,width=10 )"
   ]
  },
  {
   "cell_type": "code",
   "execution_count": 15,
   "id": "065ce1bf",
   "metadata": {},
   "outputs": [],
   "source": [
    "Button1.pack()\n",
    "Button2.pack()\n",
    "Button3.pack()"
   ]
  },
  {
   "cell_type": "code",
   "execution_count": 16,
   "id": "63e0e2a3",
   "metadata": {},
   "outputs": [],
   "source": [
    "root.mainloop()"
   ]
  },
  {
   "cell_type": "code",
   "execution_count": 17,
   "id": "dd9bc2c5",
   "metadata": {},
   "outputs": [],
   "source": [
    "master = Tk()"
   ]
  },
  {
   "cell_type": "code",
   "execution_count": 18,
   "id": "563414d7",
   "metadata": {},
   "outputs": [],
   "source": [
    "var = StringVar(master)\n",
    "var.set('One')"
   ]
  },
  {
   "cell_type": "code",
   "execution_count": 19,
   "id": "4ac7d68c",
   "metadata": {},
   "outputs": [],
   "source": [
    "option = OptionMenu(master,var,'one','two','three','four')"
   ]
  },
  {
   "cell_type": "code",
   "execution_count": 20,
   "id": "9cada987",
   "metadata": {},
   "outputs": [],
   "source": [
    "option.pack()"
   ]
  },
  {
   "cell_type": "code",
   "execution_count": 21,
   "id": "771a0492",
   "metadata": {},
   "outputs": [],
   "source": [
    "def ok():\n",
    "    print('value is',var.get())\n",
    "    master.quit()"
   ]
  },
  {
   "cell_type": "code",
   "execution_count": 22,
   "id": "6d563663",
   "metadata": {},
   "outputs": [],
   "source": [
    "button = Button(master,text='Click me',command=ok)"
   ]
  },
  {
   "cell_type": "code",
   "execution_count": 23,
   "id": "6a4376a3",
   "metadata": {},
   "outputs": [],
   "source": [
    "button.pack()"
   ]
  },
  {
   "cell_type": "code",
   "execution_count": 25,
   "id": "249cd470",
   "metadata": {},
   "outputs": [],
   "source": [
    "master.mainloop()"
   ]
  },
  {
   "cell_type": "code",
   "execution_count": null,
   "id": "d2f484ec",
   "metadata": {},
   "outputs": [],
   "source": []
  }
 ],
 "metadata": {
  "kernelspec": {
   "display_name": "Python 3 (ipykernel)",
   "language": "python",
   "name": "python3"
  },
  "language_info": {
   "codemirror_mode": {
    "name": "ipython",
    "version": 3
   },
   "file_extension": ".py",
   "mimetype": "text/x-python",
   "name": "python",
   "nbconvert_exporter": "python",
   "pygments_lexer": "ipython3",
   "version": "3.9.7"
  }
 },
 "nbformat": 4,
 "nbformat_minor": 5
}
