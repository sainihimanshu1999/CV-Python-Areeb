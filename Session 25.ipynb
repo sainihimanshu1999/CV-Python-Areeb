{
 "cells": [
  {
   "cell_type": "code",
   "execution_count": 1,
   "id": "ff508236",
   "metadata": {},
   "outputs": [],
   "source": [
    "# taking response from the message box"
   ]
  },
  {
   "cell_type": "code",
   "execution_count": 18,
   "id": "d88e9c53",
   "metadata": {},
   "outputs": [],
   "source": [
    "from tkinter import *\n",
    "from tkinter import messagebox\n"
   ]
  },
  {
   "cell_type": "code",
   "execution_count": 19,
   "id": "14d41ae5",
   "metadata": {},
   "outputs": [],
   "source": [
    "root =Tk()"
   ]
  },
  {
   "cell_type": "code",
   "execution_count": 20,
   "id": "38b029ea",
   "metadata": {},
   "outputs": [
    {
     "data": {
      "text/plain": [
       "''"
      ]
     },
     "execution_count": 20,
     "metadata": {},
     "output_type": "execute_result"
    }
   ],
   "source": [
    "root.geometry('300x200')"
   ]
  },
  {
   "cell_type": "code",
   "execution_count": 21,
   "id": "6004ceed",
   "metadata": {},
   "outputs": [],
   "source": [
    "def func(boxtype,response):\n",
    "    Label(root,text=boxtype+' gives the message '+ str(response)).pack()"
   ]
  },
  {
   "cell_type": "code",
   "execution_count": 22,
   "id": "ec3f8c66",
   "metadata": {},
   "outputs": [],
   "source": [
    "response  = messagebox.showinfo('showinfo','Some information about minecraft')\n",
    "func('showinfo',response)"
   ]
  },
  {
   "cell_type": "code",
   "execution_count": 2,
   "id": "3bb9cc62",
   "metadata": {},
   "outputs": [],
   "source": [
    "from tkinter import *\n",
    "import PIL\n",
    "\n",
    "Areeb = Tk()\n",
    "Label1=Label(Areeb,text=\"This is root window\")\n",
    "Label1.pack()\n",
    "Areeb.title(\"\")\n",
    "def open2():\n",
    " top2=Toplevel()\n",
    " top2.geometry(\"300x250\")\n",
    " Label3=Label(top2,text=\"This is a top level 2 windows\").pack()\n",
    " Button(top2, text=\"Exit\", command=top2.destroy).pack()\n",
    "def open():\n",
    " top1=Toplevel()\n",
    " Label2=Label(top1,text=\"This is a Toplevel1 window\").pack()\n",
    " Button(top1,text=\"Open Toplevel 2\",command=open2).pack()\n",
    " Button(top1,text=\"Exit\",command=top1.destroy).pack()\n",
    " top1.geometry(\"200x200\")\n",
    "        \n",
    "Areeb.geometry(\"400x200\")\n",
    "Button(Areeb, text=\"Open toplevel 1\", command=open).pack()\n",
    "mainloop()"
   ]
  },
  {
   "cell_type": "code",
   "execution_count": null,
   "id": "988b0a55",
   "metadata": {},
   "outputs": [],
   "source": []
  }
 ],
 "metadata": {
  "kernelspec": {
   "display_name": "Python 3 (ipykernel)",
   "language": "python",
   "name": "python3"
  },
  "language_info": {
   "codemirror_mode": {
    "name": "ipython",
    "version": 3
   },
   "file_extension": ".py",
   "mimetype": "text/x-python",
   "name": "python",
   "nbconvert_exporter": "python",
   "pygments_lexer": "ipython3",
   "version": "3.9.7"
  }
 },
 "nbformat": 4,
 "nbformat_minor": 5
}
