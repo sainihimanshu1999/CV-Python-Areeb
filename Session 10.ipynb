{
 "cells": [
  {
   "cell_type": "code",
   "execution_count": 1,
   "id": "79f3d074",
   "metadata": {},
   "outputs": [],
   "source": [
    "# FUNCTIONS and METHODS"
   ]
  },
  {
   "cell_type": "code",
   "execution_count": 2,
   "id": "1ab27365",
   "metadata": {},
   "outputs": [
    {
     "name": "stdout",
     "output_type": "stream",
     "text": [
      "15\n"
     ]
    }
   ],
   "source": [
    "a = 7\n",
    "b = 8\n",
    "print(a+b)"
   ]
  },
  {
   "cell_type": "code",
   "execution_count": 4,
   "id": "31d3a6ff",
   "metadata": {},
   "outputs": [
    {
     "name": "stdout",
     "output_type": "stream",
     "text": [
      "187\n"
     ]
    }
   ],
   "source": [
    "a = 98\n",
    "b =  89\n",
    "print(a+b)"
   ]
  },
  {
   "cell_type": "code",
   "execution_count": 5,
   "id": "02ec16fc",
   "metadata": {},
   "outputs": [],
   "source": [
    "# to avpid repeating our selves\n",
    "\n",
    "#syntax\n",
    "# def func_name(arguments,,,,,,,....):\n",
    "    #calucaltion\n",
    "    # return statement"
   ]
  },
  {
   "cell_type": "code",
   "execution_count": 6,
   "id": "1901fbe0",
   "metadata": {},
   "outputs": [],
   "source": [
    "# a fucntion which will add 2 numbers\n",
    "\n",
    "def addition(a,b):\n",
    "    return a+b"
   ]
  },
  {
   "cell_type": "code",
   "execution_count": 7,
   "id": "6178188d",
   "metadata": {},
   "outputs": [
    {
     "data": {
      "text/plain": [
       "5"
      ]
     },
     "execution_count": 7,
     "metadata": {},
     "output_type": "execute_result"
    }
   ],
   "source": [
    "addition(2,3)"
   ]
  },
  {
   "cell_type": "code",
   "execution_count": 8,
   "id": "8760c47e",
   "metadata": {},
   "outputs": [
    {
     "data": {
      "text/plain": [
       "1326563227089535"
      ]
     },
     "execution_count": 8,
     "metadata": {},
     "output_type": "execute_result"
    }
   ],
   "source": [
    "addition(27831928371298,1298731298718237)"
   ]
  },
  {
   "cell_type": "code",
   "execution_count": 9,
   "id": "4dfcc7e5",
   "metadata": {},
   "outputs": [],
   "source": [
    "# function which will give me product of two numbers"
   ]
  },
  {
   "cell_type": "code",
   "execution_count": 10,
   "id": "597c9d53",
   "metadata": {},
   "outputs": [],
   "source": [
    "def prod(a,b):\n",
    "    return a*b"
   ]
  },
  {
   "cell_type": "code",
   "execution_count": 11,
   "id": "89cb87c7",
   "metadata": {},
   "outputs": [
    {
     "data": {
      "text/plain": [
       "7200"
      ]
     },
     "execution_count": 11,
     "metadata": {},
     "output_type": "execute_result"
    }
   ],
   "source": [
    "prod(80,90)"
   ]
  },
  {
   "cell_type": "code",
   "execution_count": 12,
   "id": "76122ec8",
   "metadata": {},
   "outputs": [],
   "source": [
    "## function which will tell if the number is even or odd"
   ]
  },
  {
   "cell_type": "code",
   "execution_count": 13,
   "id": "dac257da",
   "metadata": {},
   "outputs": [],
   "source": [
    "def checker(a):\n",
    "    if a%2 == 0:\n",
    "        return True\n",
    "    else:\n",
    "        return False"
   ]
  },
  {
   "cell_type": "code",
   "execution_count": 14,
   "id": "4d2791c1",
   "metadata": {},
   "outputs": [
    {
     "data": {
      "text/plain": [
       "True"
      ]
     },
     "execution_count": 14,
     "metadata": {},
     "output_type": "execute_result"
    }
   ],
   "source": [
    "checker(80)"
   ]
  },
  {
   "cell_type": "code",
   "execution_count": 15,
   "id": "49e34854",
   "metadata": {},
   "outputs": [
    {
     "data": {
      "text/plain": [
       "False"
      ]
     },
     "execution_count": 15,
     "metadata": {},
     "output_type": "execute_result"
    }
   ],
   "source": [
    "checker(79)"
   ]
  },
  {
   "cell_type": "code",
   "execution_count": 17,
   "id": "ff648721",
   "metadata": {},
   "outputs": [],
   "source": [
    "# function to get prime number \n",
    "# prime numbers are 1 2 3 5 7 11 13 "
   ]
  },
  {
   "cell_type": "code",
   "execution_count": 23,
   "id": "cf4133c4",
   "metadata": {},
   "outputs": [],
   "source": [
    "def prime(a):\n",
    "    if a == 1 or a==2 or a==3:\n",
    "        return 'Prime Number'\n",
    "        \n",
    "    else:\n",
    "        i = 2\n",
    "        while(i<a):\n",
    "            if a%i == 0:\n",
    "                return \"not a prime number\"\n",
    "            i = i +1\n",
    "            \n",
    "        return 'Prime Number'\n",
    "        \n",
    "\n",
    "# 1 2 3\n",
    "# 13\n",
    "# i = 2 13/2 13/3 13/4 i = 13\n"
   ]
  },
  {
   "cell_type": "code",
   "execution_count": 20,
   "id": "1b29daca",
   "metadata": {},
   "outputs": [
    {
     "name": "stdout",
     "output_type": "stream",
     "text": [
      "Prime Number\n"
     ]
    }
   ],
   "source": [
    "prime(2)"
   ]
  },
  {
   "cell_type": "code",
   "execution_count": 21,
   "id": "4e38a540",
   "metadata": {},
   "outputs": [
    {
     "name": "stdout",
     "output_type": "stream",
     "text": [
      "Prime Number\n"
     ]
    }
   ],
   "source": [
    "prime(3)"
   ]
  },
  {
   "cell_type": "code",
   "execution_count": 24,
   "id": "441bd4de",
   "metadata": {},
   "outputs": [
    {
     "data": {
      "text/plain": [
       "'not a prime number'"
      ]
     },
     "execution_count": 24,
     "metadata": {},
     "output_type": "execute_result"
    }
   ],
   "source": [
    "prime(4)\n"
   ]
  },
  {
   "cell_type": "code",
   "execution_count": 25,
   "id": "130a05c3",
   "metadata": {},
   "outputs": [],
   "source": [
    "#Methods are built in function"
   ]
  },
  {
   "cell_type": "code",
   "execution_count": 26,
   "id": "1537c486",
   "metadata": {},
   "outputs": [],
   "source": [
    "# append('a')\n",
    "# sort()\n",
    "#len()"
   ]
  },
  {
   "cell_type": "code",
   "execution_count": 35,
   "id": "15ee11cb",
   "metadata": {},
   "outputs": [
    {
     "name": "stdout",
     "output_type": "stream",
     "text": [
      "[1, 2, 3, 4, 5, 6, 7]\n",
      "[1, 2, 3, 4, 5, 6, 7, 1293129]\n"
     ]
    }
   ],
   "source": [
    "a = [1,2,3,4,5,6,7]\n",
    "print(a)\n",
    "a.append(1293129)\n",
    "print(a)"
   ]
  },
  {
   "cell_type": "code",
   "execution_count": 29,
   "id": "8c129c6f",
   "metadata": {},
   "outputs": [],
   "source": [
    "# function of making a list of n number"
   ]
  },
  {
   "cell_type": "code",
   "execution_count": 40,
   "id": "49eb0eb1",
   "metadata": {},
   "outputs": [],
   "source": [
    "def func(n):\n",
    "    x = []\n",
    "    for i in range(n):\n",
    "        x.append(i)\n",
    "        \n",
    "    return x"
   ]
  },
  {
   "cell_type": "code",
   "execution_count": 41,
   "id": "d46366d6",
   "metadata": {},
   "outputs": [
    {
     "data": {
      "text/plain": [
       "[0, 1, 2, 3, 4, 5, 6, 7, 8, 9]"
      ]
     },
     "execution_count": 41,
     "metadata": {},
     "output_type": "execute_result"
    }
   ],
   "source": [
    "func(10)"
   ]
  },
  {
   "cell_type": "code",
   "execution_count": null,
   "id": "6f87e48b",
   "metadata": {},
   "outputs": [],
   "source": []
  },
  {
   "cell_type": "code",
   "execution_count": null,
   "id": "b7a51286",
   "metadata": {},
   "outputs": [],
   "source": []
  },
  {
   "cell_type": "code",
   "execution_count": null,
   "id": "55ac5673",
   "metadata": {},
   "outputs": [],
   "source": []
  },
  {
   "cell_type": "code",
   "execution_count": null,
   "id": "fdde2826",
   "metadata": {},
   "outputs": [],
   "source": []
  },
  {
   "cell_type": "code",
   "execution_count": null,
   "id": "184719cc",
   "metadata": {},
   "outputs": [],
   "source": []
  },
  {
   "cell_type": "code",
   "execution_count": null,
   "id": "d947bad6",
   "metadata": {},
   "outputs": [],
   "source": []
  }
 ],
 "metadata": {
  "kernelspec": {
   "display_name": "Python 3 (ipykernel)",
   "language": "python",
   "name": "python3"
  },
  "language_info": {
   "codemirror_mode": {
    "name": "ipython",
    "version": 3
   },
   "file_extension": ".py",
   "mimetype": "text/x-python",
   "name": "python",
   "nbconvert_exporter": "python",
   "pygments_lexer": "ipython3",
   "version": "3.9.7"
  }
 },
 "nbformat": 4,
 "nbformat_minor": 5
}
