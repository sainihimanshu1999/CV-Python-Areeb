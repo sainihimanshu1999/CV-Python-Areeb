{
 "cells": [
  {
   "cell_type": "code",
   "execution_count": 1,
   "id": "cd347472",
   "metadata": {},
   "outputs": [],
   "source": [
    "# CALCULATOR APPLICATION"
   ]
  },
  {
   "cell_type": "code",
   "execution_count": 2,
   "id": "c53f29a3",
   "metadata": {},
   "outputs": [],
   "source": [
    "#eval function"
   ]
  },
  {
   "cell_type": "code",
   "execution_count": 3,
   "id": "a8b8ea5f",
   "metadata": {},
   "outputs": [],
   "source": [
    "from tkinter import *"
   ]
  },
  {
   "cell_type": "code",
   "execution_count": 4,
   "id": "c23c8b7f",
   "metadata": {},
   "outputs": [],
   "source": [
    "# function of pressing a number\n"
   ]
  },
  {
   "cell_type": "code",
   "execution_count": 5,
   "id": "335b0f88",
   "metadata": {},
   "outputs": [],
   "source": [
    "expression = ''"
   ]
  },
  {
   "cell_type": "code",
   "execution_count": 6,
   "id": "de015891",
   "metadata": {},
   "outputs": [],
   "source": [
    "def press(num):\n",
    "    \n",
    "    global expression\n",
    "    \n",
    "    expression = expression + str(num)\n",
    "    equation.set(expression)"
   ]
  },
  {
   "cell_type": "code",
   "execution_count": 7,
   "id": "042ad5e5",
   "metadata": {},
   "outputs": [],
   "source": [
    "# function for pressing equals button"
   ]
  },
  {
   "cell_type": "code",
   "execution_count": 8,
   "id": "68e2f729",
   "metadata": {},
   "outputs": [],
   "source": [
    "def equalpress():\n",
    "    \n",
    "    try:\n",
    "        global expression\n",
    "        \n",
    "        total = str(eval(expression))\n",
    "        \n",
    "        equation.set(total)\n",
    "        \n",
    "        expression = ''\n",
    "        \n",
    "        \n",
    "    except:\n",
    "        \n",
    "        equation.set('error')\n",
    "        expression = ''\n",
    "        \n",
    "        "
   ]
  },
  {
   "cell_type": "code",
   "execution_count": 9,
   "id": "6d9510db",
   "metadata": {},
   "outputs": [],
   "source": [
    "# function to clear the entry box"
   ]
  },
  {
   "cell_type": "code",
   "execution_count": 10,
   "id": "05f5d0c9",
   "metadata": {},
   "outputs": [],
   "source": [
    "def clear():\n",
    "    global expression\n",
    "    expression = ''\n",
    "    equation.set('')"
   ]
  },
  {
   "cell_type": "code",
   "execution_count": 11,
   "id": "599ce042",
   "metadata": {},
   "outputs": [],
   "source": [
    "gui = Tk()"
   ]
  },
  {
   "cell_type": "code",
   "execution_count": 12,
   "id": "32c4e64d",
   "metadata": {},
   "outputs": [],
   "source": [
    "gui.configure(background='light blue')"
   ]
  },
  {
   "cell_type": "code",
   "execution_count": 13,
   "id": "f68aa675",
   "metadata": {},
   "outputs": [
    {
     "data": {
      "text/plain": [
       "''"
      ]
     },
     "execution_count": 13,
     "metadata": {},
     "output_type": "execute_result"
    }
   ],
   "source": [
    "gui.title('Simple Calculator')"
   ]
  },
  {
   "cell_type": "code",
   "execution_count": 14,
   "id": "271c6e5a",
   "metadata": {},
   "outputs": [
    {
     "data": {
      "text/plain": [
       "''"
      ]
     },
     "execution_count": 14,
     "metadata": {},
     "output_type": "execute_result"
    }
   ],
   "source": [
    "gui.geometry('270x150')"
   ]
  },
  {
   "cell_type": "code",
   "execution_count": 15,
   "id": "a3cb9d94",
   "metadata": {},
   "outputs": [],
   "source": [
    "equation = StringVar()"
   ]
  },
  {
   "cell_type": "code",
   "execution_count": 16,
   "id": "9a477bd0",
   "metadata": {},
   "outputs": [],
   "source": [
    "expression_field = Entry(gui,textvariable=equation)"
   ]
  },
  {
   "cell_type": "code",
   "execution_count": 17,
   "id": "b979b3fc",
   "metadata": {},
   "outputs": [],
   "source": [
    "expression_field.grid(columnspan = 4, ipadx=70)"
   ]
  },
  {
   "cell_type": "code",
   "execution_count": 18,
   "id": "7d8b7af6",
   "metadata": {},
   "outputs": [],
   "source": [
    "equation.set('Enter your expression')"
   ]
  },
  {
   "cell_type": "code",
   "execution_count": 19,
   "id": "423dd4f6",
   "metadata": {},
   "outputs": [],
   "source": [
    "button1 = Button(gui, text=' 1 ', fg='black', bg='red', \n",
    "                    command=lambda: press(1), height=1, width=7) \n",
    "button1.grid(row=2, column=0) "
   ]
  },
  {
   "cell_type": "code",
   "execution_count": 20,
   "id": "9966f9cf",
   "metadata": {},
   "outputs": [],
   "source": [
    "button2 = Button(gui, text=' 2 ', fg='black', bg='red', \n",
    "                    command=lambda: press(2), height=1, width=7) \n",
    "button2.grid(row=2, column=1) "
   ]
  },
  {
   "cell_type": "code",
   "execution_count": 21,
   "id": "d6d0dd2d",
   "metadata": {},
   "outputs": [],
   "source": [
    "button3 = Button(gui, text=' 3 ', fg='black', bg='red', \n",
    "                    command=lambda: press(3), height=1, width=7) \n",
    "button3.grid(row=2, column=2) "
   ]
  },
  {
   "cell_type": "code",
   "execution_count": 22,
   "id": "88db3b51",
   "metadata": {},
   "outputs": [],
   "source": [
    "button4 = Button(gui, text=' 4 ', fg='black', bg='red', \n",
    "                    command=lambda: press(4), height=1, width=7) \n",
    "button4.grid(row=3, column=0) \n"
   ]
  },
  {
   "cell_type": "code",
   "execution_count": 23,
   "id": "4f849ead",
   "metadata": {},
   "outputs": [],
   "source": [
    "button5 = Button(gui, text=' 5 ', fg='black', bg='red', \n",
    "                    command=lambda: press(5), height=1, width=7) \n",
    "button5.grid(row=3, column=1) "
   ]
  },
  {
   "cell_type": "code",
   "execution_count": 24,
   "id": "28dba96e",
   "metadata": {},
   "outputs": [],
   "source": [
    "button6 = Button(gui, text=' 6 ', fg='black', bg='red', \n",
    "                    command=lambda: press(6), height=1, width=7) \n",
    "button6.grid(row=3, column=2) \n"
   ]
  },
  {
   "cell_type": "code",
   "execution_count": 25,
   "id": "325c7008",
   "metadata": {},
   "outputs": [],
   "source": [
    "button7 = Button(gui, text=' 7 ', fg='black', bg='red', \n",
    "                    command=lambda: press(7), height=1, width=7) \n",
    "button7.grid(row=4, column=0) "
   ]
  },
  {
   "cell_type": "code",
   "execution_count": 26,
   "id": "cc6ec878",
   "metadata": {},
   "outputs": [],
   "source": [
    "button8 = Button(gui, text=' 8 ', fg='black', bg='red', \n",
    "                    command=lambda: press(8), height=1, width=7) \n",
    "button8.grid(row=4, column=1) "
   ]
  },
  {
   "cell_type": "code",
   "execution_count": 27,
   "id": "8d1a1adb",
   "metadata": {},
   "outputs": [],
   "source": [
    "button9 = Button(gui, text=' 9 ', fg='black', bg='red', \n",
    "                    command=lambda: press(9), height=1, width=7) \n",
    "button9.grid(row=4, column=2) \n"
   ]
  },
  {
   "cell_type": "code",
   "execution_count": 28,
   "id": "952fa017",
   "metadata": {},
   "outputs": [],
   "source": [
    "button0 = Button(gui, text=' 0 ', fg='black', bg='red', \n",
    "                    command=lambda: press(0), height=1, width=7) \n",
    "button0.grid(row=5, column=0)"
   ]
  },
  {
   "cell_type": "code",
   "execution_count": 29,
   "id": "79021757",
   "metadata": {},
   "outputs": [],
   "source": [
    "\n",
    "plus = Button(gui, text=' + ', fg='black', bg='red', \n",
    "                command=lambda: press(\"+\"), height=1, width=7) \n",
    "plus.grid(row=2, column=3) "
   ]
  },
  {
   "cell_type": "code",
   "execution_count": 30,
   "id": "9ab2ce0f",
   "metadata": {},
   "outputs": [],
   "source": [
    "minus = Button(gui, text=' - ', fg='black', bg='red', \n",
    "                command=lambda: press(\"-\"), height=1, width=7) \n",
    "minus.grid(row=3, column=3) "
   ]
  },
  {
   "cell_type": "code",
   "execution_count": 31,
   "id": "d820a8bf",
   "metadata": {},
   "outputs": [],
   "source": [
    "multiply = Button(gui, text=' * ', fg='black', bg='red', \n",
    "                    command=lambda: press(\"*\"), height=1, width=7) \n",
    "multiply.grid(row=4, column=3) \n"
   ]
  },
  {
   "cell_type": "code",
   "execution_count": 32,
   "id": "3e2033bd",
   "metadata": {},
   "outputs": [],
   "source": [
    "divide = Button(gui, text=' / ', fg='black', bg='red', \n",
    "                command=lambda: press(\"/\"), height=1, width=7) \n",
    "divide.grid(row=5, column=3) "
   ]
  },
  {
   "cell_type": "code",
   "execution_count": 33,
   "id": "63d712dd",
   "metadata": {},
   "outputs": [],
   "source": [
    "equal = Button(gui, text=' = ', fg='black', bg='red', \n",
    "                command=equalpress, height=1, width=7) \n",
    "equal.grid(row=5, column=2) \n"
   ]
  },
  {
   "cell_type": "code",
   "execution_count": 34,
   "id": "31a5b72a",
   "metadata": {},
   "outputs": [],
   "source": [
    "clear = Button(gui, text='Clear', fg='black', bg='red', \n",
    "                command=clear, height=1, width=7) \n",
    "clear.grid(row=5, column='1') \n"
   ]
  },
  {
   "cell_type": "code",
   "execution_count": 35,
   "id": "342f2263",
   "metadata": {},
   "outputs": [],
   "source": [
    "Decimal= Button(gui, text='.', fg='black', bg='red', \n",
    "                command=lambda: press('.'), height=1, width=7) \n",
    "Decimal.grid(row=6, column=0) "
   ]
  },
  {
   "cell_type": "code",
   "execution_count": 36,
   "id": "61bc7ea0",
   "metadata": {},
   "outputs": [],
   "source": [
    "gui.mainloop()"
   ]
  },
  {
   "cell_type": "code",
   "execution_count": null,
   "id": "a58937d5",
   "metadata": {},
   "outputs": [],
   "source": []
  }
 ],
 "metadata": {
  "kernelspec": {
   "display_name": "Python 3 (ipykernel)",
   "language": "python",
   "name": "python3"
  },
  "language_info": {
   "codemirror_mode": {
    "name": "ipython",
    "version": 3
   },
   "file_extension": ".py",
   "mimetype": "text/x-python",
   "name": "python",
   "nbconvert_exporter": "python",
   "pygments_lexer": "ipython3",
   "version": "3.9.7"
  }
 },
 "nbformat": 4,
 "nbformat_minor": 5
}
