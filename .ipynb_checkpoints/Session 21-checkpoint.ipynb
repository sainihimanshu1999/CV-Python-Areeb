{
 "cells": [
  {
   "cell_type": "code",
   "execution_count": 1,
   "id": "d78344de",
   "metadata": {},
   "outputs": [],
   "source": [
    "# BUTTONS and INPUT fields"
   ]
  },
  {
   "cell_type": "code",
   "execution_count": 55,
   "id": "338e4daa",
   "metadata": {},
   "outputs": [],
   "source": [
    "from tkinter import *"
   ]
  },
  {
   "cell_type": "code",
   "execution_count": 56,
   "id": "b0383f49",
   "metadata": {},
   "outputs": [],
   "source": [
    "root = Tk()"
   ]
  },
  {
   "cell_type": "code",
   "execution_count": 60,
   "id": "feb5dcd8",
   "metadata": {},
   "outputs": [],
   "source": [
    "ee= Entry(root,width=50,bg='Blue',show='*')\n",
    "ee.pack()"
   ]
  },
  {
   "cell_type": "code",
   "execution_count": 61,
   "id": "e94cd301",
   "metadata": {},
   "outputs": [],
   "source": [
    "def func():\n",
    "    myLabel = Label(root,text='Hello the Areeb button has just been clicked')\n",
    "    myLabel.pack()"
   ]
  },
  {
   "cell_type": "code",
   "execution_count": 62,
   "id": "806ca47e",
   "metadata": {},
   "outputs": [],
   "source": [
    "btn = Button(root,text='Hello i am Areeb', padx=90, pady=50, command=func, activebackground='Red', activeforeground='White',fg='Blue',bg='Black')"
   ]
  },
  {
   "cell_type": "code",
   "execution_count": 63,
   "id": "eb45cddb",
   "metadata": {},
   "outputs": [],
   "source": [
    "btn.pack()"
   ]
  },
  {
   "cell_type": "code",
   "execution_count": 64,
   "id": "c8aa07a7",
   "metadata": {},
   "outputs": [],
   "source": [
    "root.mainloop()"
   ]
  },
  {
   "cell_type": "code",
   "execution_count": null,
   "id": "c6607636",
   "metadata": {},
   "outputs": [],
   "source": []
  }
 ],
 "metadata": {
  "kernelspec": {
   "display_name": "Python 3 (ipykernel)",
   "language": "python",
   "name": "python3"
  },
  "language_info": {
   "codemirror_mode": {
    "name": "ipython",
    "version": 3
   },
   "file_extension": ".py",
   "mimetype": "text/x-python",
   "name": "python",
   "nbconvert_exporter": "python",
   "pygments_lexer": "ipython3",
   "version": "3.9.7"
  }
 },
 "nbformat": 4,
 "nbformat_minor": 5
}
