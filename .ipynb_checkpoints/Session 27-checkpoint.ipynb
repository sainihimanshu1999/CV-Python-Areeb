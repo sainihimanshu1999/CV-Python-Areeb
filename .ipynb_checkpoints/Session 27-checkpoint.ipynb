{
 "cells": [
  {
   "cell_type": "code",
   "execution_count": 1,
   "id": "7b9aebd1",
   "metadata": {},
   "outputs": [],
   "source": [
    "#checkboxes"
   ]
  },
  {
   "cell_type": "code",
   "execution_count": 10,
   "id": "673715cc",
   "metadata": {},
   "outputs": [],
   "source": [
    "from tkinter import *"
   ]
  },
  {
   "cell_type": "code",
   "execution_count": 11,
   "id": "9d760954",
   "metadata": {},
   "outputs": [],
   "source": [
    "root = Tk()"
   ]
  },
  {
   "cell_type": "code",
   "execution_count": 12,
   "id": "549dd48e",
   "metadata": {},
   "outputs": [],
   "source": [
    "w = Label(root,text='Favourite Food',font='50')\n",
    "w.pack()"
   ]
  },
  {
   "cell_type": "code",
   "execution_count": 13,
   "id": "331844c1",
   "metadata": {},
   "outputs": [],
   "source": [
    "ckbtn1 = IntVar()\n",
    "ckbtn2 = IntVar()\n",
    "ckbtn3 = IntVar()"
   ]
  },
  {
   "cell_type": "code",
   "execution_count": 14,
   "id": "84f9cf3e",
   "metadata": {},
   "outputs": [],
   "source": [
    "Button1 = Checkbutton(root,text='Pizza',variable = ckbtn1,onvalue=1,offvalue=0,height=2,width=10 )\n",
    "Button2 = Checkbutton(root,text='ice cream',variable = ckbtn2,onvalue=1,offvalue=0,height=2,width=10 )\n",
    "Button3 = Checkbutton(root,text='burger',variable = ckbtn3,onvalue=1,offvalue=0,height=2,width=10 )"
   ]
  },
  {
   "cell_type": "code",
   "execution_count": 15,
   "id": "6df18b36",
   "metadata": {},
   "outputs": [],
   "source": [
    "Button1.pack()\n",
    "Button2.pack()\n",
    "Button3.pack()"
   ]
  },
  {
   "cell_type": "code",
   "execution_count": 16,
   "id": "11122f48",
   "metadata": {},
   "outputs": [],
   "source": [
    "root.mainloop()"
   ]
  },
  {
   "cell_type": "code",
   "execution_count": null,
   "id": "8b850798",
   "metadata": {},
   "outputs": [],
   "source": []
  }
 ],
 "metadata": {
  "kernelspec": {
   "display_name": "Python 3 (ipykernel)",
   "language": "python",
   "name": "python3"
  },
  "language_info": {
   "codemirror_mode": {
    "name": "ipython",
    "version": 3
   },
   "file_extension": ".py",
   "mimetype": "text/x-python",
   "name": "python",
   "nbconvert_exporter": "python",
   "pygments_lexer": "ipython3",
   "version": "3.9.7"
  }
 },
 "nbformat": 4,
 "nbformat_minor": 5
}
