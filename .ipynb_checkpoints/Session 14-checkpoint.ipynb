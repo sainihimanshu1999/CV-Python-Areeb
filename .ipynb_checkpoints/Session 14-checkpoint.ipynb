{
 "cells": [
  {
   "cell_type": "code",
   "execution_count": 1,
   "id": "368e49fa",
   "metadata": {},
   "outputs": [],
   "source": [
    "#OOP"
   ]
  },
  {
   "cell_type": "code",
   "execution_count": 2,
   "id": "f2f9bfab",
   "metadata": {},
   "outputs": [],
   "source": [
    "#OBJECT ORIENTED PROGRAMMING"
   ]
  },
  {
   "cell_type": "code",
   "execution_count": 3,
   "id": "1706736f",
   "metadata": {},
   "outputs": [],
   "source": [
    "# function when they are called on objects, then they are known as methods"
   ]
  },
  {
   "cell_type": "code",
   "execution_count": null,
   "id": "c361939c",
   "metadata": {},
   "outputs": [],
   "source": []
  },
  {
   "cell_type": "code",
   "execution_count": 4,
   "id": "58d49207",
   "metadata": {},
   "outputs": [
    {
     "name": "stdout",
     "output_type": "stream",
     "text": [
      "[1, 2, 3]\n"
     ]
    }
   ],
   "source": [
    "lst = [1,2,3]\n",
    "print(lst)"
   ]
  },
  {
   "cell_type": "code",
   "execution_count": 5,
   "id": "a447812b",
   "metadata": {},
   "outputs": [
    {
     "name": "stdout",
     "output_type": "stream",
     "text": [
      "[1, 2, 3, 5]\n"
     ]
    }
   ],
   "source": [
    "lst.append(5) # append is a method\n",
    "print(lst)"
   ]
  },
  {
   "cell_type": "code",
   "execution_count": 6,
   "id": "acf34ec8",
   "metadata": {},
   "outputs": [],
   "source": [
    "x = 'abc'"
   ]
  },
  {
   "cell_type": "code",
   "execution_count": 14,
   "id": "dcf0b7cf",
   "metadata": {},
   "outputs": [
    {
     "name": "stdout",
     "output_type": "stream",
     "text": [
      "<class 'list'>\n"
     ]
    }
   ],
   "source": [
    "print(type(lst))"
   ]
  },
  {
   "cell_type": "code",
   "execution_count": 9,
   "id": "dcc71fcc",
   "metadata": {},
   "outputs": [],
   "source": [
    "# we classes , and in those classes we make methods, when we use those classes, we call them instances of that class"
   ]
  },
  {
   "cell_type": "code",
   "execution_count": 10,
   "id": "7cb633b0",
   "metadata": {},
   "outputs": [],
   "source": [
    "#CLASS"
   ]
  },
  {
   "cell_type": "code",
   "execution_count": 11,
   "id": "847307ca",
   "metadata": {},
   "outputs": [],
   "source": [
    "class Areeb:\n",
    "    pass"
   ]
  },
  {
   "cell_type": "code",
   "execution_count": 12,
   "id": "d4c31e16",
   "metadata": {},
   "outputs": [],
   "source": [
    "x = Areeb()"
   ]
  },
  {
   "cell_type": "code",
   "execution_count": 13,
   "id": "31de65a2",
   "metadata": {},
   "outputs": [
    {
     "name": "stdout",
     "output_type": "stream",
     "text": [
      "<class '__main__.Areeb'>\n"
     ]
    }
   ],
   "source": [
    "print(type(x))"
   ]
  },
  {
   "cell_type": "code",
   "execution_count": 15,
   "id": "5bb5a4a7",
   "metadata": {},
   "outputs": [],
   "source": [
    "class Info:\n",
    "    \n",
    "    def __init__(self,name): # __init__ is the method\n",
    "        self.name = name # self. name is the attribute\n",
    "        "
   ]
  },
  {
   "cell_type": "code",
   "execution_count": 16,
   "id": "668ca94e",
   "metadata": {},
   "outputs": [],
   "source": [
    "p1 = Info(name='Areeb')\n",
    "p2 = Info('Himanshu') # p1 and p2 are the instances of Info class, or you can call them the Info class object"
   ]
  },
  {
   "cell_type": "code",
   "execution_count": 19,
   "id": "f80167c5",
   "metadata": {
    "scrolled": true
   },
   "outputs": [
    {
     "name": "stdout",
     "output_type": "stream",
     "text": [
      "Himanshu\n"
     ]
    }
   ],
   "source": [
    "print(p2.name)"
   ]
  },
  {
   "cell_type": "code",
   "execution_count": 20,
   "id": "d517a4d0",
   "metadata": {},
   "outputs": [],
   "source": [
    "class Person:\n",
    "    nation = 'Indian' # class object attribute\n",
    "    \n",
    "    def __init__(self,name,age):\n",
    "        self.name = name\n",
    "        self.age= age"
   ]
  },
  {
   "cell_type": "code",
   "execution_count": 21,
   "id": "dff7795f",
   "metadata": {},
   "outputs": [],
   "source": [
    "p1 = Person('Areeb',13)\n",
    "p2 = Person('Himanshu',22)\n"
   ]
  },
  {
   "cell_type": "code",
   "execution_count": 25,
   "id": "6e6a6fbd",
   "metadata": {},
   "outputs": [
    {
     "name": "stdout",
     "output_type": "stream",
     "text": [
      "Areeb 13 Indian\n",
      "Himanshu 22 Indian\n"
     ]
    }
   ],
   "source": [
    "print(p1.name,p1.age,p1.nation)\n",
    "print(p2.name,p2.age,p2.nation)"
   ]
  },
  {
   "cell_type": "code",
   "execution_count": 41,
   "id": "0bc5e27b",
   "metadata": {},
   "outputs": [],
   "source": [
    "class Account:\n",
    "    interest = 0.08\n",
    "    \n",
    "    def __init__(self,name,age,balance=0):\n",
    "        self.name = name\n",
    "        self.age = age\n",
    "        self.balance = balance\n",
    "        \n",
    "    def update_bal(self,amount=0):\n",
    "        self.balance = self.balance + amount\n",
    "        \n",
    "    def getinterest(self):\n",
    "        return self.balance*self.interest\n",
    "        "
   ]
  },
  {
   "cell_type": "code",
   "execution_count": 42,
   "id": "35c41333",
   "metadata": {},
   "outputs": [],
   "source": [
    "p1 = Account('Areeb',13,20)"
   ]
  },
  {
   "cell_type": "code",
   "execution_count": 43,
   "id": "e1d6af4b",
   "metadata": {},
   "outputs": [
    {
     "name": "stdout",
     "output_type": "stream",
     "text": [
      "Areeb 13 20\n"
     ]
    }
   ],
   "source": [
    "print(p1.name,p1.age,p1.balance)"
   ]
  },
  {
   "cell_type": "code",
   "execution_count": 44,
   "id": "bce295cf",
   "metadata": {},
   "outputs": [],
   "source": [
    "p1.update_bal(20)"
   ]
  },
  {
   "cell_type": "code",
   "execution_count": 39,
   "id": "7a75c2ad",
   "metadata": {},
   "outputs": [
    {
     "name": "stdout",
     "output_type": "stream",
     "text": [
      "40\n"
     ]
    }
   ],
   "source": [
    "print(p1.balance)"
   ]
  },
  {
   "cell_type": "code",
   "execution_count": 45,
   "id": "65c53e6f",
   "metadata": {},
   "outputs": [
    {
     "name": "stdout",
     "output_type": "stream",
     "text": [
      "3.2\n"
     ]
    }
   ],
   "source": [
    "print(p1.getinterest())"
   ]
  },
  {
   "cell_type": "code",
   "execution_count": 48,
   "id": "1d83858a",
   "metadata": {},
   "outputs": [],
   "source": [
    "p2 = Account('Himanshu', 22)"
   ]
  },
  {
   "cell_type": "code",
   "execution_count": 50,
   "id": "f2b8a595",
   "metadata": {},
   "outputs": [
    {
     "name": "stdout",
     "output_type": "stream",
     "text": [
      "0\n"
     ]
    }
   ],
   "source": [
    "print(p2.balance)"
   ]
  },
  {
   "cell_type": "code",
   "execution_count": 65,
   "id": "32188f64",
   "metadata": {},
   "outputs": [],
   "source": [
    "# INHERITANCE\n",
    "# Polymorphism"
   ]
  },
  {
   "cell_type": "code",
   "execution_count": 70,
   "id": "b0088a59",
   "metadata": {},
   "outputs": [],
   "source": [
    "# parent class\n",
    "class Father:\n",
    "    def __init__(self,name):\n",
    "        self.name = name\n",
    "        print('Hi i am' , self.name)\n",
    "        \n",
    "        \n",
    "    def have(self):\n",
    "        print('I have an old laptop')\n",
    "        \n",
    "        \n",
    "    def give(self):\n",
    "        print('I will give laptop to my son')\n",
    "        \n",
    "    def ice(self):\n",
    "        print('This is a father class method')"
   ]
  },
  {
   "cell_type": "code",
   "execution_count": 75,
   "id": "3a485d27",
   "metadata": {},
   "outputs": [],
   "source": [
    "#child class\n",
    "class Child(Father):\n",
    "    def __init__(self,name):\n",
    "        self.name = name\n",
    "        print('Hi i am', self.name)\n",
    "        \n",
    "        \n",
    "    def want(self):\n",
    "        Father.have(self)\n",
    "        print('i need a laptop')\n",
    "        \n",
    "    \n",
    "    def got(self):\n",
    "        Father.give(self)\n",
    "        print('yay i will get a laptop')\n",
    "        \n",
    "        \n",
    "    def ice(self):\n",
    "        Father.ice(self)\n",
    "        print('This is a child class method')\n",
    "        \n",
    "    "
   ]
  },
  {
   "cell_type": "code",
   "execution_count": 76,
   "id": "95e3c1df",
   "metadata": {},
   "outputs": [
    {
     "name": "stdout",
     "output_type": "stream",
     "text": [
      "Hi i am x\n",
      "Hi i am y\n"
     ]
    }
   ],
   "source": [
    "f = Father('x')\n",
    "c = Child('y')"
   ]
  },
  {
   "cell_type": "code",
   "execution_count": 60,
   "id": "cee475e0",
   "metadata": {},
   "outputs": [
    {
     "name": "stdout",
     "output_type": "stream",
     "text": [
      "I have an old laptop\n"
     ]
    }
   ],
   "source": [
    "f.have()\n"
   ]
  },
  {
   "cell_type": "code",
   "execution_count": 61,
   "id": "2fcc96b5",
   "metadata": {},
   "outputs": [
    {
     "name": "stdout",
     "output_type": "stream",
     "text": [
      "I will give laptop to my son\n"
     ]
    }
   ],
   "source": [
    "f.give()"
   ]
  },
  {
   "cell_type": "code",
   "execution_count": 63,
   "id": "34949404",
   "metadata": {},
   "outputs": [
    {
     "name": "stdout",
     "output_type": "stream",
     "text": [
      "I have an old laptop\n",
      "i need a laptop\n"
     ]
    }
   ],
   "source": [
    "c.want()"
   ]
  },
  {
   "cell_type": "code",
   "execution_count": 64,
   "id": "1e63c7a4",
   "metadata": {},
   "outputs": [
    {
     "name": "stdout",
     "output_type": "stream",
     "text": [
      "I will give laptop to my son\n",
      "yay i will get a laptop\n"
     ]
    }
   ],
   "source": [
    "c.got()"
   ]
  },
  {
   "cell_type": "code",
   "execution_count": 77,
   "id": "8f02f2b9",
   "metadata": {},
   "outputs": [
    {
     "name": "stdout",
     "output_type": "stream",
     "text": [
      "This is a father class method\n"
     ]
    }
   ],
   "source": [
    "f.ice()"
   ]
  },
  {
   "cell_type": "code",
   "execution_count": 78,
   "id": "5fba01a0",
   "metadata": {},
   "outputs": [
    {
     "name": "stdout",
     "output_type": "stream",
     "text": [
      "This is a father class method\n",
      "This is a child class method\n"
     ]
    }
   ],
   "source": [
    "c.ice()"
   ]
  },
  {
   "cell_type": "code",
   "execution_count": null,
   "id": "1d648814",
   "metadata": {},
   "outputs": [],
   "source": []
  }
 ],
 "metadata": {
  "kernelspec": {
   "display_name": "Python 3 (ipykernel)",
   "language": "python",
   "name": "python3"
  },
  "language_info": {
   "codemirror_mode": {
    "name": "ipython",
    "version": 3
   },
   "file_extension": ".py",
   "mimetype": "text/x-python",
   "name": "python",
   "nbconvert_exporter": "python",
   "pygments_lexer": "ipython3",
   "version": "3.9.7"
  }
 },
 "nbformat": 4,
 "nbformat_minor": 5
}
