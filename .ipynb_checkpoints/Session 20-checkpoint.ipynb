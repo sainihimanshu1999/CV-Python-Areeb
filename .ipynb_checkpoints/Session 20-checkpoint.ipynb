{
 "cells": [
  {
   "cell_type": "code",
   "execution_count": 1,
   "id": "98f43e6c",
   "metadata": {},
   "outputs": [],
   "source": [
    "# We are creating GUI ( Graphical user interface ) Application"
   ]
  },
  {
   "cell_type": "code",
   "execution_count": 2,
   "id": "5cd73cb0",
   "metadata": {},
   "outputs": [],
   "source": [
    "# Creation of GUI is done using Tkinter module in python"
   ]
  },
  {
   "cell_type": "code",
   "execution_count": 45,
   "id": "cacccb3e",
   "metadata": {},
   "outputs": [],
   "source": [
    "from tkinter import *"
   ]
  },
  {
   "cell_type": "code",
   "execution_count": 46,
   "id": "e1bce5e0",
   "metadata": {},
   "outputs": [],
   "source": [
    "root =Tk()"
   ]
  },
  {
   "cell_type": "code",
   "execution_count": 47,
   "id": "1c4b512b",
   "metadata": {},
   "outputs": [
    {
     "data": {
      "text/plain": [
       "''"
      ]
     },
     "execution_count": 47,
     "metadata": {},
     "output_type": "execute_result"
    }
   ],
   "source": [
    "root.title(\"Sir\")"
   ]
  },
  {
   "cell_type": "code",
   "execution_count": 48,
   "id": "b90b445f",
   "metadata": {},
   "outputs": [],
   "source": [
    "myLabel = Label(root,text='hello i am areeb and this is my application')"
   ]
  },
  {
   "cell_type": "code",
   "execution_count": 49,
   "id": "a1427462",
   "metadata": {},
   "outputs": [],
   "source": [
    "myLabel1 = Label(root, text='Hello i am widget 1 in this application')\n",
    "myLabel2= Label(root,text='Hello i am widget 2 in this application')"
   ]
  },
  {
   "cell_type": "code",
   "execution_count": 50,
   "id": "8d4c8f3d",
   "metadata": {},
   "outputs": [],
   "source": [
    "\n",
    "myLabel1.grid(row=0,column=0)\n",
    "myLabel2.grid(row=1,column=1)"
   ]
  },
  {
   "cell_type": "code",
   "execution_count": 51,
   "id": "d329c48f",
   "metadata": {},
   "outputs": [],
   "source": [
    "root.mainloop()"
   ]
  },
  {
   "cell_type": "code",
   "execution_count": null,
   "id": "cad8143f",
   "metadata": {},
   "outputs": [],
   "source": []
  }
 ],
 "metadata": {
  "kernelspec": {
   "display_name": "Python 3 (ipykernel)",
   "language": "python",
   "name": "python3"
  },
  "language_info": {
   "codemirror_mode": {
    "name": "ipython",
    "version": 3
   },
   "file_extension": ".py",
   "mimetype": "text/x-python",
   "name": "python",
   "nbconvert_exporter": "python",
   "pygments_lexer": "ipython3",
   "version": "3.9.7"
  }
 },
 "nbformat": 4,
 "nbformat_minor": 5
}
