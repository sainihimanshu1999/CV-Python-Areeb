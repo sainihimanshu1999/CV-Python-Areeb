{
 "cells": [
  {
   "cell_type": "code",
   "execution_count": 1,
   "id": "3746eb0c",
   "metadata": {},
   "outputs": [],
   "source": [
    "#TIC TAC TOE GAME"
   ]
  },
  {
   "cell_type": "code",
   "execution_count": 13,
   "id": "7464a80f",
   "metadata": {},
   "outputs": [],
   "source": [
    "d = {1:' ', 2:' ',3:' ',4:' ',5:' ',6:' ',7:' ',8:' ',9:' '}"
   ]
  },
  {
   "cell_type": "code",
   "execution_count": 14,
   "id": "34d6e256",
   "metadata": {},
   "outputs": [],
   "source": [
    "# function for displaying the row\n",
    "def display_row(d,row_number):\n",
    "    print(\"     |     |     \")\n",
    "    print(\"  \",d[1 + 3*(row_number-1)],\"  \",\"|  \",d[2+3*(row_number-1)],\"  \",\"|  \",d[3+3*(row_number-1)],\"  \",sep ='')\n",
    "    print(\"     |     |     \")"
   ]
  },
  {
   "cell_type": "code",
   "execution_count": 15,
   "id": "51a6b115",
   "metadata": {},
   "outputs": [
    {
     "name": "stdout",
     "output_type": "stream",
     "text": [
      "     |     |     \n",
      "     |     |     \n",
      "     |     |     \n"
     ]
    }
   ],
   "source": [
    "display_row(d,1)"
   ]
  },
  {
   "cell_type": "code",
   "execution_count": 16,
   "id": "e4ed24bf",
   "metadata": {},
   "outputs": [],
   "source": [
    "# displaying the horizontal line"
   ]
  },
  {
   "cell_type": "code",
   "execution_count": 29,
   "id": "0a7468db",
   "metadata": {},
   "outputs": [],
   "source": [
    "def display_horizontal_line(n):\n",
    "    for i in range(n):\n",
    "        print('=',end='')\n",
    "    print(' ')"
   ]
  },
  {
   "cell_type": "code",
   "execution_count": 30,
   "id": "3e3ff212",
   "metadata": {
    "scrolled": true
   },
   "outputs": [
    {
     "name": "stdout",
     "output_type": "stream",
     "text": [
      "===================================== \n"
     ]
    }
   ],
   "source": [
    "display_horizontal_line(37)"
   ]
  },
  {
   "cell_type": "code",
   "execution_count": 31,
   "id": "1ddd4d8c",
   "metadata": {},
   "outputs": [],
   "source": [
    "# function to make the tic tac toe board"
   ]
  },
  {
   "cell_type": "code",
   "execution_count": 36,
   "id": "98838a64",
   "metadata": {},
   "outputs": [],
   "source": [
    "def display_board(d):\n",
    "    for i in range(1,4):\n",
    "        display_row(d,i)\n",
    "        if i<3:\n",
    "            display_horizontal_line(17)"
   ]
  },
  {
   "cell_type": "code",
   "execution_count": 37,
   "id": "15a85994",
   "metadata": {},
   "outputs": [
    {
     "name": "stdout",
     "output_type": "stream",
     "text": [
      "     |     |     \n",
      "     |     |     \n",
      "     |     |     \n",
      "================= \n",
      "     |     |     \n",
      "     |     |     \n",
      "     |     |     \n",
      "================= \n",
      "     |     |     \n",
      "     |     |     \n",
      "     |     |     \n"
     ]
    }
   ],
   "source": [
    "display_board(d)"
   ]
  },
  {
   "cell_type": "code",
   "execution_count": 38,
   "id": "325eab32",
   "metadata": {},
   "outputs": [],
   "source": [
    "#this function will take the input\n",
    "#First it asks the name of the first player\n",
    "#then it asks what symbol 1st player will choose\n",
    "# then it asks for the name of the second player and allot the remaining symbol to him/her"
   ]
  },
  {
   "cell_type": "code",
   "execution_count": 42,
   "id": "1ec702ad",
   "metadata": {},
   "outputs": [],
   "source": [
    "def player_name():\n",
    "    user_1 = input('Hi please enter your name')\n",
    "    print('Hi', user_1)\n",
    "    user_1_char = input('Please choose your character from x or o')\n",
    "    \n",
    "    from x or o')\n",
    "        \n",
    "    user_2 = input('Hi please enter player 2 name')\n",
    "    \n",
    "    if user_1_char == 'x':\n",
    "        user_2_char = 'o'\n",
    "    else:\n",
    "        user_2_char = 'x'\n",
    "        \n",
    "    print(user_1,'choosed',user_1_char)\n",
    "    print(user_2,'choosed',user_2_char)\n",
    "    \n",
    "    return((user_1,user_1_char),(user_2,user_2_char))\n",
    "        \n",
    "    \n",
    "        \n",
    "        "
   ]
  },
  {
   "cell_type": "code",
   "execution_count": 44,
   "id": "379f7009",
   "metadata": {},
   "outputs": [
    {
     "name": "stdout",
     "output_type": "stream",
     "text": [
      "Hi please enter your nameareeb\n",
      "Hi areeb\n",
      "Please choose your character from x or om\n",
      "Looks like you have not chosen character from x or o\n",
      "Please choose your character from x or oa\n",
      "Looks like you have not chosen character from x or o\n",
      "Please choose your character from x or oo\n",
      "Hi please enter player 2 nameHimanshu\n",
      "areeb choosed o\n",
      "Himanshu choosed x\n"
     ]
    },
    {
     "data": {
      "text/plain": [
       "(('areeb', 'o'), ('Himanshu', 'x'))"
      ]
     },
     "execution_count": 44,
     "metadata": {},
     "output_type": "execute_result"
    }
   ],
   "source": [
    "player_name()\n"
   ]
  },
  {
   "cell_type": "code",
   "execution_count": 45,
   "id": "a6b820d8",
   "metadata": {},
   "outputs": [],
   "source": [
    "# check whether all the characters in the row are same"
   ]
  },
  {
   "cell_type": "code",
   "execution_count": 47,
   "id": "7fa005f0",
   "metadata": {},
   "outputs": [],
   "source": [
    "def row_check(d,char,i):\n",
    "    if d[1+i*3]== char and d[2+i*3]==char and d[3+i*3]==char:\n",
    "        return True\n",
    "    else:\n",
    "        return False\n",
    "# first row i = 0 char = x d = {1:x2:x3:x,}"
   ]
  },
  {
   "cell_type": "code",
   "execution_count": 51,
   "id": "489f05a7",
   "metadata": {},
   "outputs": [],
   "source": [
    "# check whether all the characters in the col are same"
   ]
  },
  {
   "cell_type": "code",
   "execution_count": 52,
   "id": "5c177a59",
   "metadata": {},
   "outputs": [],
   "source": [
    "def column_check(d,char,i):\n",
    "    if d[i+1]==char and  d[i+4] == char and d[i+7]==char:\n",
    "        return True\n",
    "    else:\n",
    "        return False"
   ]
  },
  {
   "cell_type": "code",
   "execution_count": 53,
   "id": "c821ad8c",
   "metadata": {},
   "outputs": [],
   "source": [
    "# check for the diagonal 1"
   ]
  },
  {
   "cell_type": "code",
   "execution_count": 54,
   "id": "ae2c13ad",
   "metadata": {},
   "outputs": [],
   "source": [
    "def diag1_check(d,char):\n",
    "    if d[1]==char and d[5]==char and d[9]==char:\n",
    "        return True\n",
    "    else:\n",
    "        return False\n",
    "    "
   ]
  },
  {
   "cell_type": "code",
   "execution_count": 55,
   "id": "a9ecfa4e",
   "metadata": {},
   "outputs": [],
   "source": [
    "# check for the diagonal 2"
   ]
  },
  {
   "cell_type": "code",
   "execution_count": null,
   "id": "15f9f858",
   "metadata": {},
   "outputs": [],
   "source": [
    "def diag2_check(d,char):\n",
    "    if d[3]==char and d[5]==char and d[7]==char:\n",
    "        return True\n",
    "    else:\n",
    "        False"
   ]
  }
 ],
 "metadata": {
  "kernelspec": {
   "display_name": "Python 3 (ipykernel)",
   "language": "python",
   "name": "python3"
  },
  "language_info": {
   "codemirror_mode": {
    "name": "ipython",
    "version": 3
   },
   "file_extension": ".py",
   "mimetype": "text/x-python",
   "name": "python",
   "nbconvert_exporter": "python",
   "pygments_lexer": "ipython3",
   "version": "3.9.7"
  }
 },
 "nbformat": 4,
 "nbformat_minor": 5
}
