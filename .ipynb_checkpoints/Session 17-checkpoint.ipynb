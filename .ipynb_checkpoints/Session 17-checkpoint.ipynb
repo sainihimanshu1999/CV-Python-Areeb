{
 "cells": [
  {
   "cell_type": "code",
   "execution_count": 1,
   "id": "608d3a06",
   "metadata": {},
   "outputs": [],
   "source": [
    "# OS Module and Error Handle"
   ]
  },
  {
   "cell_type": "code",
   "execution_count": 2,
   "id": "a4bebaf2",
   "metadata": {},
   "outputs": [],
   "source": [
    "# pwd gives us the path of the drive we are in"
   ]
  },
  {
   "cell_type": "code",
   "execution_count": 3,
   "id": "b7e48589",
   "metadata": {},
   "outputs": [
    {
     "data": {
      "text/plain": [
       "'/home/himanshu/CV Python Areeb'"
      ]
     },
     "execution_count": 3,
     "metadata": {},
     "output_type": "execute_result"
    }
   ],
   "source": [
    "pwd"
   ]
  },
  {
   "cell_type": "code",
   "execution_count": 4,
   "id": "3ad333be",
   "metadata": {},
   "outputs": [],
   "source": [
    "# to make a new file"
   ]
  },
  {
   "cell_type": "code",
   "execution_count": 43,
   "id": "130cc075",
   "metadata": {},
   "outputs": [],
   "source": [
    "f  = open('practice.txt','wt') # open(name,permission) # permission w,r,wt - w writable r-readable wt-both"
   ]
  },
  {
   "cell_type": "code",
   "execution_count": 44,
   "id": "2622479d",
   "metadata": {},
   "outputs": [],
   "source": [
    "f.write('test ')\n",
    "f.close()"
   ]
  },
  {
   "cell_type": "code",
   "execution_count": 15,
   "id": "e72f28af",
   "metadata": {},
   "outputs": [],
   "source": [
    "# os module in action"
   ]
  },
  {
   "cell_type": "code",
   "execution_count": 16,
   "id": "060a7821",
   "metadata": {},
   "outputs": [],
   "source": [
    "import os"
   ]
  },
  {
   "cell_type": "code",
   "execution_count": 17,
   "id": "10469b59",
   "metadata": {},
   "outputs": [
    {
     "data": {
      "text/plain": [
       "'/home/himanshu/CV Python Areeb'"
      ]
     },
     "execution_count": 17,
     "metadata": {},
     "output_type": "execute_result"
    }
   ],
   "source": [
    "os.getcwd()"
   ]
  },
  {
   "cell_type": "code",
   "execution_count": 18,
   "id": "e2c875a5",
   "metadata": {},
   "outputs": [],
   "source": [
    "#os dir - what is in our folder or directory"
   ]
  },
  {
   "cell_type": "code",
   "execution_count": 19,
   "id": "4409eaac",
   "metadata": {},
   "outputs": [
    {
     "data": {
      "text/plain": [
       "['.git',\n",
       " 'Session 16.ipynb',\n",
       " 'Session 12 and 13.ipynb',\n",
       " 'Session 14.ipynb',\n",
       " 'Session 17.ipynb',\n",
       " 'Session 15.ipynb',\n",
       " 'Session 10.ipynb',\n",
       " '.ipynb_checkpoints',\n",
       " 'Session 11.ipynb',\n",
       " 'practice.txt']"
      ]
     },
     "execution_count": 19,
     "metadata": {},
     "output_type": "execute_result"
    }
   ],
   "source": [
    "os.listdir()"
   ]
  },
  {
   "cell_type": "code",
   "execution_count": 21,
   "id": "c10f3cb6",
   "metadata": {},
   "outputs": [
    {
     "data": {
      "text/plain": [
       "['.python_history',\n",
       " 'notebook',\n",
       " '.profile',\n",
       " 'CV Python Areeb',\n",
       " '.jupyter',\n",
       " '.ssh',\n",
       " '.mozilla',\n",
       " '.ipython',\n",
       " 'Videos',\n",
       " '.vscode',\n",
       " '.cache',\n",
       " '.bash_history',\n",
       " 'CV Python Sarveshh',\n",
       " 'Desktop',\n",
       " '.bash_logout',\n",
       " '.config',\n",
       " 'Music',\n",
       " 'Templates',\n",
       " 'CV Pyhton Sriyansh',\n",
       " '.var',\n",
       " '.bashrc',\n",
       " 'synth-shell',\n",
       " 'Pictures',\n",
       " 'snap',\n",
       " 'Downloads',\n",
       " '.ipynb_checkpoints',\n",
       " '.anydesk',\n",
       " 'Public',\n",
       " 'Documents',\n",
       " 'CV Python Swaraj',\n",
       " '.local',\n",
       " '.gitconfig',\n",
       " 'Machine Learning',\n",
       " '.sudo_as_admin_successful',\n",
       " '.pki',\n",
       " '.zoom',\n",
       " '.bashrc.save',\n",
       " '.gnupg']"
      ]
     },
     "execution_count": 21,
     "metadata": {},
     "output_type": "execute_result"
    }
   ],
   "source": [
    "os.listdir('/home/himanshu/')"
   ]
  },
  {
   "cell_type": "code",
   "execution_count": 26,
   "id": "796001ac",
   "metadata": {},
   "outputs": [],
   "source": [
    "import send2trash # this send2trash module is used to delete files from the folders"
   ]
  },
  {
   "cell_type": "code",
   "execution_count": 23,
   "id": "5c7a66e4",
   "metadata": {},
   "outputs": [
    {
     "data": {
      "text/plain": [
       "['.git',\n",
       " 'Session 16.ipynb',\n",
       " 'Session 12 and 13.ipynb',\n",
       " 'Session 14.ipynb',\n",
       " 'Session 17.ipynb',\n",
       " 'Session 15.ipynb',\n",
       " 'Session 10.ipynb',\n",
       " '.ipynb_checkpoints',\n",
       " 'Session 11.ipynb',\n",
       " 'practice.txt']"
      ]
     },
     "execution_count": 23,
     "metadata": {},
     "output_type": "execute_result"
    }
   ],
   "source": [
    "os.listdir()"
   ]
  },
  {
   "cell_type": "code",
   "execution_count": 24,
   "id": "7fe359cc",
   "metadata": {},
   "outputs": [],
   "source": [
    "send2trash.send2trash('practice.txt')"
   ]
  },
  {
   "cell_type": "code",
   "execution_count": 25,
   "id": "15ebdbda",
   "metadata": {},
   "outputs": [
    {
     "data": {
      "text/plain": [
       "['.git',\n",
       " 'Session 16.ipynb',\n",
       " 'Session 12 and 13.ipynb',\n",
       " 'Session 14.ipynb',\n",
       " 'Session 17.ipynb',\n",
       " 'Session 15.ipynb',\n",
       " 'Session 10.ipynb',\n",
       " '.ipynb_checkpoints',\n",
       " 'Session 11.ipynb']"
      ]
     },
     "execution_count": 25,
     "metadata": {},
     "output_type": "execute_result"
    }
   ],
   "source": [
    "os.listdir()"
   ]
  },
  {
   "cell_type": "code",
   "execution_count": 28,
   "id": "076c56ca",
   "metadata": {},
   "outputs": [
    {
     "ename": "SyntaxError",
     "evalue": "EOL while scanning string literal (2919401671.py, line 1)",
     "output_type": "error",
     "traceback": [
      "\u001b[0;36m  File \u001b[0;32m\"/tmp/ipykernel_4941/2919401671.py\"\u001b[0;36m, line \u001b[0;32m1\u001b[0m\n\u001b[0;31m    print('areeb)\u001b[0m\n\u001b[0m                 ^\u001b[0m\n\u001b[0;31mSyntaxError\u001b[0m\u001b[0;31m:\u001b[0m EOL while scanning string literal\n"
     ]
    }
   ],
   "source": [
    "print('areeb)"
   ]
  },
  {
   "cell_type": "code",
   "execution_count": 30,
   "id": "ad72dad7",
   "metadata": {},
   "outputs": [],
   "source": [
    "# try and except method for error handling in python"
   ]
  },
  {
   "cell_type": "code",
   "execution_count": 41,
   "id": "1ee3f514",
   "metadata": {},
   "outputs": [
    {
     "name": "stdout",
     "output_type": "stream",
     "text": [
      "the code ran succesfully\n"
     ]
    }
   ],
   "source": [
    "try:\n",
    "    f = open('test.txt','w')\n",
    "    f.write('Hello areeb')\n",
    "    \n",
    "except IOError:\n",
    "    #this block will only check of IO error\n",
    "    print('we are in the except part')\n",
    "    \n",
    "    print('Error some error occured')\n",
    "    \n",
    "else:\n",
    "    print('the code ran succesfully')\n",
    "    f.close()"
   ]
  },
  {
   "cell_type": "code",
   "execution_count": 42,
   "id": "1a931cc5",
   "metadata": {},
   "outputs": [
    {
     "name": "stdout",
     "output_type": "stream",
     "text": [
      "Error appeared\n"
     ]
    }
   ],
   "source": [
    "try:\n",
    "    f = open('test2.txt','r')\n",
    "    f.write('Hello user')\n",
    "except:\n",
    "    print('Error appeared')\n",
    "    \n",
    "else:\n",
    "    ('the code ran successfully')\n",
    "    f.close()"
   ]
  },
  {
   "cell_type": "code",
   "execution_count": null,
   "id": "f89572ee",
   "metadata": {},
   "outputs": [],
   "source": []
  }
 ],
 "metadata": {
  "kernelspec": {
   "display_name": "Python 3 (ipykernel)",
   "language": "python",
   "name": "python3"
  },
  "language_info": {
   "codemirror_mode": {
    "name": "ipython",
    "version": 3
   },
   "file_extension": ".py",
   "mimetype": "text/x-python",
   "name": "python",
   "nbconvert_exporter": "python",
   "pygments_lexer": "ipython3",
   "version": "3.9.7"
  }
 },
 "nbformat": 4,
 "nbformat_minor": 5
}
