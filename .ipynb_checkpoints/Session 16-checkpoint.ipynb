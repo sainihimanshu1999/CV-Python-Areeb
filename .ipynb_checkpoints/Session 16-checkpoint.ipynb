{
 "cells": [
  {
   "cell_type": "code",
   "execution_count": 1,
   "id": "bd0e670b",
   "metadata": {},
   "outputs": [],
   "source": [
    "# ADVANCED PYTHON MODULES"
   ]
  },
  {
   "cell_type": "code",
   "execution_count": 2,
   "id": "855b8857",
   "metadata": {},
   "outputs": [],
   "source": [
    "# collections is a python module which has container data types and provide alternative to built in container\n",
    "# datatypes in python"
   ]
  },
  {
   "cell_type": "code",
   "execution_count": 3,
   "id": "8b8fd89d",
   "metadata": {},
   "outputs": [],
   "source": [
    "# Counter is dictionary sub class it just helps us to count objects"
   ]
  },
  {
   "cell_type": "code",
   "execution_count": 4,
   "id": "9659074c",
   "metadata": {},
   "outputs": [],
   "source": [
    "from collections import Counter"
   ]
  },
  {
   "cell_type": "code",
   "execution_count": 5,
   "id": "84851e88",
   "metadata": {},
   "outputs": [],
   "source": [
    "f = [1,1,1,2,3,3,3,3,4,5,5,5,5,5,6,6,6,6,4,4,4,8,9,9,9,9,9,9,9,9,1,1,1,1,2,2,2,3,3,4,4,4,8,8,8,8]"
   ]
  },
  {
   "cell_type": "code",
   "execution_count": 7,
   "id": "d3df4492",
   "metadata": {},
   "outputs": [
    {
     "data": {
      "text/plain": [
       "Counter({1: 7, 2: 4, 3: 6, 4: 7, 5: 5, 6: 4, 8: 5, 9: 8})"
      ]
     },
     "execution_count": 7,
     "metadata": {},
     "output_type": "execute_result"
    }
   ],
   "source": [
    "Counter(f) # counter tells us the frequency of the objects"
   ]
  },
  {
   "cell_type": "code",
   "execution_count": 8,
   "id": "c58e6543",
   "metadata": {},
   "outputs": [],
   "source": [
    "s = \"Today's class is about advanced python modules and in the last class we just learnt about very basics of python module\""
   ]
  },
  {
   "cell_type": "code",
   "execution_count": 9,
   "id": "18185f29",
   "metadata": {},
   "outputs": [],
   "source": [
    "w = s.split()"
   ]
  },
  {
   "cell_type": "code",
   "execution_count": 10,
   "id": "be683f32",
   "metadata": {},
   "outputs": [
    {
     "name": "stdout",
     "output_type": "stream",
     "text": [
      "[\"Today's\", 'class', 'is', 'about', 'advanced', 'python', 'modules', 'and', 'in', 'the', 'last', 'class', 'we', 'just', 'learnt', 'about', 'very', 'basics', 'of', 'python', 'module']\n"
     ]
    }
   ],
   "source": [
    "print(w)"
   ]
  },
  {
   "cell_type": "code",
   "execution_count": 11,
   "id": "fa7f445b",
   "metadata": {},
   "outputs": [
    {
     "data": {
      "text/plain": [
       "Counter({\"Today's\": 1,\n",
       "         'class': 2,\n",
       "         'is': 1,\n",
       "         'about': 2,\n",
       "         'advanced': 1,\n",
       "         'python': 2,\n",
       "         'modules': 1,\n",
       "         'and': 1,\n",
       "         'in': 1,\n",
       "         'the': 1,\n",
       "         'last': 1,\n",
       "         'we': 1,\n",
       "         'just': 1,\n",
       "         'learnt': 1,\n",
       "         'very': 1,\n",
       "         'basics': 1,\n",
       "         'of': 1,\n",
       "         'module': 1})"
      ]
     },
     "execution_count": 11,
     "metadata": {},
     "output_type": "execute_result"
    }
   ],
   "source": [
    "Counter(w)"
   ]
  },
  {
   "cell_type": "code",
   "execution_count": 12,
   "id": "4859a5cb",
   "metadata": {},
   "outputs": [],
   "source": [
    "# dictionaries are just the key value pairs"
   ]
  },
  {
   "cell_type": "code",
   "execution_count": 13,
   "id": "9f49b2f4",
   "metadata": {},
   "outputs": [],
   "source": [
    "s = {1:'One',2:'two',3:'three'}"
   ]
  },
  {
   "cell_type": "code",
   "execution_count": 18,
   "id": "dcf59ddc",
   "metadata": {},
   "outputs": [
    {
     "ename": "KeyError",
     "evalue": "4",
     "output_type": "error",
     "traceback": [
      "\u001b[0;31m---------------------------------------------------------------------------\u001b[0m",
      "\u001b[0;31mKeyError\u001b[0m                                  Traceback (most recent call last)",
      "\u001b[0;32m/tmp/ipykernel_3846/2660035851.py\u001b[0m in \u001b[0;36m<module>\u001b[0;34m\u001b[0m\n\u001b[0;32m----> 1\u001b[0;31m \u001b[0mprint\u001b[0m\u001b[0;34m(\u001b[0m\u001b[0ms\u001b[0m\u001b[0;34m[\u001b[0m\u001b[0;36m4\u001b[0m\u001b[0;34m]\u001b[0m\u001b[0;34m)\u001b[0m\u001b[0;34m\u001b[0m\u001b[0;34m\u001b[0m\u001b[0m\n\u001b[0m",
      "\u001b[0;31mKeyError\u001b[0m: 4"
     ]
    }
   ],
   "source": [
    "print(s[4])"
   ]
  },
  {
   "cell_type": "code",
   "execution_count": 19,
   "id": "fccc2e02",
   "metadata": {},
   "outputs": [],
   "source": [
    "from collections import defaultdict"
   ]
  },
  {
   "cell_type": "raw",
   "id": "08b2b944",
   "metadata": {},
   "source": [
    "Defaultdict will never raise a key error"
   ]
  },
  {
   "cell_type": "code",
   "execution_count": 22,
   "id": "1f05e8f5",
   "metadata": {},
   "outputs": [],
   "source": [
    "d = defaultdict(object)"
   ]
  },
  {
   "cell_type": "code",
   "execution_count": 23,
   "id": "c8cdd0dc",
   "metadata": {},
   "outputs": [
    {
     "name": "stdout",
     "output_type": "stream",
     "text": [
      "defaultdict(<class 'object'>, {})\n"
     ]
    }
   ],
   "source": [
    "print(d)"
   ]
  },
  {
   "cell_type": "code",
   "execution_count": 24,
   "id": "5359fa47",
   "metadata": {},
   "outputs": [
    {
     "name": "stdout",
     "output_type": "stream",
     "text": [
      "<object object at 0x7f9f585b5550>\n"
     ]
    }
   ],
   "source": [
    "print(d[99])"
   ]
  },
  {
   "cell_type": "code",
   "execution_count": 25,
   "id": "e73a8099",
   "metadata": {},
   "outputs": [],
   "source": [
    "# DATE TIME MODULE"
   ]
  },
  {
   "cell_type": "code",
   "execution_count": 26,
   "id": "d8c01b1c",
   "metadata": {},
   "outputs": [],
   "source": [
    "import datetime"
   ]
  },
  {
   "cell_type": "code",
   "execution_count": 27,
   "id": "062ea129",
   "metadata": {},
   "outputs": [],
   "source": [
    "t = datetime.time(5,12,1)"
   ]
  },
  {
   "cell_type": "code",
   "execution_count": 28,
   "id": "7207a6f7",
   "metadata": {},
   "outputs": [
    {
     "name": "stdout",
     "output_type": "stream",
     "text": [
      "05:12:01\n"
     ]
    }
   ],
   "source": [
    "print(t)"
   ]
  },
  {
   "cell_type": "code",
   "execution_count": 30,
   "id": "38dd7a6a",
   "metadata": {},
   "outputs": [
    {
     "name": "stdout",
     "output_type": "stream",
     "text": [
      "5\n"
     ]
    }
   ],
   "source": [
    "print(t.hour)"
   ]
  },
  {
   "cell_type": "code",
   "execution_count": 31,
   "id": "1499b1f2",
   "metadata": {},
   "outputs": [
    {
     "name": "stdout",
     "output_type": "stream",
     "text": [
      "12\n"
     ]
    }
   ],
   "source": [
    "print(t.minute)"
   ]
  },
  {
   "cell_type": "code",
   "execution_count": 32,
   "id": "858d9dd4",
   "metadata": {},
   "outputs": [
    {
     "name": "stdout",
     "output_type": "stream",
     "text": [
      "1\n"
     ]
    }
   ],
   "source": [
    "print(t.second)"
   ]
  },
  {
   "cell_type": "code",
   "execution_count": 33,
   "id": "fdf8c7a3",
   "metadata": {},
   "outputs": [
    {
     "name": "stdout",
     "output_type": "stream",
     "text": [
      "None\n"
     ]
    }
   ],
   "source": [
    "print(t.tzinfo)"
   ]
  },
  {
   "cell_type": "code",
   "execution_count": 35,
   "id": "f0bdbbe2",
   "metadata": {},
   "outputs": [],
   "source": [
    "today = datetime.date.today()"
   ]
  },
  {
   "cell_type": "code",
   "execution_count": 36,
   "id": "cdf99bd8",
   "metadata": {},
   "outputs": [
    {
     "name": "stdout",
     "output_type": "stream",
     "text": [
      "2022-01-31\n"
     ]
    }
   ],
   "source": [
    "print(today)"
   ]
  },
  {
   "cell_type": "code",
   "execution_count": 37,
   "id": "3a4aed0c",
   "metadata": {},
   "outputs": [
    {
     "name": "stdout",
     "output_type": "stream",
     "text": [
      "Mon Jan 31 00:00:00 2022\n"
     ]
    }
   ],
   "source": [
    "print(today.ctime())"
   ]
  },
  {
   "cell_type": "code",
   "execution_count": 38,
   "id": "e1382396",
   "metadata": {},
   "outputs": [
    {
     "name": "stdout",
     "output_type": "stream",
     "text": [
      "2022\n"
     ]
    }
   ],
   "source": [
    "print(today.year)"
   ]
  },
  {
   "cell_type": "code",
   "execution_count": 39,
   "id": "b03faf89",
   "metadata": {},
   "outputs": [
    {
     "name": "stdout",
     "output_type": "stream",
     "text": [
      "1\n"
     ]
    }
   ],
   "source": [
    "print(today.month)"
   ]
  },
  {
   "cell_type": "code",
   "execution_count": 40,
   "id": "f10a936d",
   "metadata": {},
   "outputs": [],
   "source": [
    "import math # math module"
   ]
  },
  {
   "cell_type": "code",
   "execution_count": 43,
   "id": "d21da334",
   "metadata": {},
   "outputs": [],
   "source": [
    "x = 1.67"
   ]
  },
  {
   "cell_type": "code",
   "execution_count": 44,
   "id": "a66d9db5",
   "metadata": {},
   "outputs": [
    {
     "name": "stdout",
     "output_type": "stream",
     "text": [
      "2\n"
     ]
    }
   ],
   "source": [
    "print(round(x))"
   ]
  },
  {
   "cell_type": "code",
   "execution_count": 45,
   "id": "e7169e09",
   "metadata": {},
   "outputs": [],
   "source": [
    "# factorials\n",
    "# find factorial of 5\n",
    "# 5*4*3*2*1 = 120\n",
    "#factorial of n\n",
    "#n*n-1*n-2*n-3....1"
   ]
  },
  {
   "cell_type": "code",
   "execution_count": 46,
   "id": "a380be97",
   "metadata": {},
   "outputs": [
    {
     "name": "stdout",
     "output_type": "stream",
     "text": [
      "120\n"
     ]
    }
   ],
   "source": [
    "print(math.factorial(5))"
   ]
  },
  {
   "cell_type": "code",
   "execution_count": 47,
   "id": "00b05626",
   "metadata": {},
   "outputs": [
    {
     "name": "stdout",
     "output_type": "stream",
     "text": [
      "16507955160908461081216919262453619309839666236496541854913520707833171034378509739399912570787600662729080382999756800000000000000000000\n"
     ]
    }
   ],
   "source": [
    "print(math.factorial(89))"
   ]
  },
  {
   "cell_type": "code",
   "execution_count": 48,
   "id": "766fc2c5",
   "metadata": {},
   "outputs": [],
   "source": [
    "#pi - 3.14"
   ]
  },
  {
   "cell_type": "code",
   "execution_count": 49,
   "id": "927e64bb",
   "metadata": {},
   "outputs": [
    {
     "name": "stdout",
     "output_type": "stream",
     "text": [
      "3.141592653589793\n"
     ]
    }
   ],
   "source": [
    "print(math.pi)"
   ]
  },
  {
   "cell_type": "code",
   "execution_count": 50,
   "id": "295c6be9",
   "metadata": {},
   "outputs": [],
   "source": [
    "# random module"
   ]
  },
  {
   "cell_type": "code",
   "execution_count": 51,
   "id": "326c9178",
   "metadata": {},
   "outputs": [],
   "source": [
    "import random"
   ]
  },
  {
   "cell_type": "code",
   "execution_count": 57,
   "id": "53a423d9",
   "metadata": {},
   "outputs": [
    {
     "data": {
      "text/plain": [
       "21"
      ]
     },
     "execution_count": 57,
     "metadata": {},
     "output_type": "execute_result"
    }
   ],
   "source": [
    "random.randint(0,100)"
   ]
  },
  {
   "cell_type": "code",
   "execution_count": 58,
   "id": "c43d6b16",
   "metadata": {},
   "outputs": [],
   "source": [
    "# sample with replacement"
   ]
  },
  {
   "cell_type": "code",
   "execution_count": 59,
   "id": "967d06cf",
   "metadata": {},
   "outputs": [],
   "source": [
    "c = [1,2,3,4,5,6,7,8,9,10]"
   ]
  },
  {
   "cell_type": "code",
   "execution_count": 65,
   "id": "559cb4a9",
   "metadata": {},
   "outputs": [
    {
     "data": {
      "text/plain": [
       "[9, 3, 6, 2, 6]"
      ]
     },
     "execution_count": 65,
     "metadata": {},
     "output_type": "execute_result"
    }
   ],
   "source": [
    "random.choices(population=c,k=5)"
   ]
  },
  {
   "cell_type": "code",
   "execution_count": 66,
   "id": "1ab74dd6",
   "metadata": {},
   "outputs": [],
   "source": [
    "# sample without replacement"
   ]
  },
  {
   "cell_type": "code",
   "execution_count": 72,
   "id": "17c2337e",
   "metadata": {},
   "outputs": [
    {
     "data": {
      "text/plain": [
       "[2, 8, 9, 6, 4]"
      ]
     },
     "execution_count": 72,
     "metadata": {},
     "output_type": "execute_result"
    }
   ],
   "source": [
    "random.sample(population=c,k=5)"
   ]
  },
  {
   "cell_type": "code",
   "execution_count": null,
   "id": "4b80ab22",
   "metadata": {},
   "outputs": [],
   "source": []
  }
 ],
 "metadata": {
  "kernelspec": {
   "display_name": "Python 3 (ipykernel)",
   "language": "python",
   "name": "python3"
  },
  "language_info": {
   "codemirror_mode": {
    "name": "ipython",
    "version": 3
   },
   "file_extension": ".py",
   "mimetype": "text/x-python",
   "name": "python",
   "nbconvert_exporter": "python",
   "pygments_lexer": "ipython3",
   "version": "3.9.7"
  }
 },
 "nbformat": 4,
 "nbformat_minor": 5
}
