{
 "cells": [
  {
   "cell_type": "code",
   "execution_count": 1,
   "id": "38fbca5c",
   "metadata": {},
   "outputs": [],
   "source": [
    "# CARD GAME PROJECT"
   ]
  },
  {
   "cell_type": "code",
   "execution_count": 2,
   "id": "ef34e40b",
   "metadata": {},
   "outputs": [],
   "source": [
    "# 52 cards in a deck\n",
    "# 4 suits = Diamonds, clubs, hearts, spade\n",
    "# in each suit we have 13 cards each\n",
    "\n",
    "\n",
    "# PATTE PE PATTA- card on top of other card"
   ]
  },
  {
   "cell_type": "code",
   "execution_count": 3,
   "id": "8db4dc42",
   "metadata": {},
   "outputs": [
    {
     "data": {
      "text/plain": [
       "'\\n1. This game involves two players and initialy each player is given 26 cards each.\\n2. They have to put there top card on the table turn wise\\n3. If the card they are going to put on table matchs with the already top card on the table\\nMATCH condition - Two cards match if they have same suit OR if they have same rank\\n4. Player wins that chance and he take all the cards on the table and add all those cards to the end of the deck of cards he\\nalready have.\\n5. This way game runs until one of the player run out of cards\\n6. The player that run out of cards losses and other player wins the game!!!!!\\n'"
      ]
     },
     "execution_count": 3,
     "metadata": {},
     "output_type": "execute_result"
    }
   ],
   "source": [
    "'''\n",
    "1. This game involves two players and initialy each player is given 26 cards each.\n",
    "2. They have to put there top card on the table turn wise\n",
    "3. If the card they are going to put on table matchs with the already top card on the table\n",
    "MATCH condition - Two cards match if they have same suit OR if they have same rank\n",
    "4. Player wins that chance and he take all the cards on the table and add all those cards to the end of the deck of cards he\n",
    "already have.\n",
    "5. This way game runs until one of the player run out of cards\n",
    "6. The player that run out of cards losses and other player wins the game!!!!!\n",
    "'''"
   ]
  },
  {
   "cell_type": "code",
   "execution_count": 22,
   "id": "b6008f42",
   "metadata": {},
   "outputs": [],
   "source": [
    "import random\n",
    "\n",
    "suits = ('Hearts','Diamonds','Clubs','Spades')\n",
    "\n",
    "ranks = ('Two','Three','Four','Five','Six','Seven','Eight','Nine','Ten','Jack','Queen','King','Ace')\n",
    "\n",
    "values = {'Two':2,'Three':3,'Four':4,'Five':5,'Six':6,'Seven':7,'Eight':8,'Nine':9,'Ten':10,'Jack':10,'Queen':10,'King':10,'Ace':11}\n",
    "\n"
   ]
  },
  {
   "cell_type": "code",
   "execution_count": 23,
   "id": "e69ab4ab",
   "metadata": {},
   "outputs": [],
   "source": [
    "#For this we need to build for classes\n",
    "\n",
    "#1 . Card class - Hold the information about the card\n",
    "\n",
    "#2 . Deck class - Hold the information baout the complete set of 52 cards\n",
    "\n",
    "#3 . Player class - Hold the information about the cards the player are having\n",
    "\n",
    "#4 . Table class - Holds the information about the cards on table."
   ]
  },
  {
   "cell_type": "code",
   "execution_count": 28,
   "id": "6da0d9e8",
   "metadata": {},
   "outputs": [],
   "source": [
    "# CARD CLASS\n",
    "\n",
    "class Card:\n",
    "\n",
    "    def __init__(self,suit,rank):\n",
    "        self.suit = suit           # identity of a card\n",
    "        self.rank = rank\n",
    "\n",
    "    def __str__(self):\n",
    "        return self.rank + ' of ' + self.suit     #returns a string defining the card"
   ]
  },
  {
   "cell_type": "code",
   "execution_count": 29,
   "id": "8ca928ca",
   "metadata": {},
   "outputs": [
    {
     "name": "stdout",
     "output_type": "stream",
     "text": [
      "Ten of Clubs\n"
     ]
    }
   ],
   "source": [
    "a = Card('Clubs','Ten')\n",
    "print(a)"
   ]
  },
  {
   "cell_type": "code",
   "execution_count": 34,
   "id": "2a589779",
   "metadata": {},
   "outputs": [],
   "source": [
    "# DECK CLASS\n",
    "\n",
    "class Deck:\n",
    "    \n",
    "    def __init__(self):\n",
    "        self.deck = []\n",
    "        \n",
    "        for suit in suits:\n",
    "            for rank in ranks:\n",
    "                self.deck.append(Card(suit,rank))\n",
    "                \n",
    "                \n",
    "    def __str__(self):\n",
    "        deck_comp = ''  \n",
    "        for card in self.deck:\n",
    "            deck_comp += '\\n '+card.__str__() \n",
    "        return 'The deck has:' + deck_comp\n",
    "    \n",
    "    \n",
    "    def shuffle(self):\n",
    "        random.shuffle(self.deck)\n",
    "    \n",
    "    def __len__(self):\n",
    "        return len(self.deck)\n",
    "    "
   ]
  },
  {
   "cell_type": "code",
   "execution_count": 39,
   "id": "6fa70ddc",
   "metadata": {},
   "outputs": [],
   "source": [
    "d = Deck()\n",
    "d.shuffle()"
   ]
  },
  {
   "cell_type": "code",
   "execution_count": 40,
   "id": "00b3d08b",
   "metadata": {},
   "outputs": [
    {
     "name": "stdout",
     "output_type": "stream",
     "text": [
      "The deck has:\n",
      " Four of Hearts\n",
      " Jack of Hearts\n",
      " Three of Clubs\n",
      " Three of Diamonds\n",
      " Six of Hearts\n",
      " Five of Hearts\n",
      " Ten of Spades\n",
      " Eight of Diamonds\n",
      " Four of Spades\n",
      " Three of Spades\n",
      " Eight of Spades\n",
      " Four of Diamonds\n",
      " Queen of Clubs\n",
      " Six of Spades\n",
      " Six of Diamonds\n",
      " Seven of Clubs\n",
      " Ace of Clubs\n",
      " Ace of Spades\n",
      " Two of Hearts\n",
      " Four of Clubs\n",
      " Seven of Hearts\n",
      " Jack of Clubs\n",
      " Ten of Hearts\n",
      " Ten of Clubs\n",
      " Seven of Spades\n",
      " Nine of Diamonds\n",
      " Seven of Diamonds\n",
      " King of Spades\n",
      " Five of Clubs\n",
      " Ace of Hearts\n",
      " King of Clubs\n",
      " Jack of Spades\n",
      " Ten of Diamonds\n",
      " Five of Diamonds\n",
      " Three of Hearts\n",
      " King of Hearts\n",
      " Nine of Hearts\n",
      " Two of Diamonds\n",
      " Nine of Clubs\n",
      " Queen of Hearts\n",
      " Queen of Diamonds\n",
      " King of Diamonds\n",
      " Eight of Clubs\n",
      " Jack of Diamonds\n",
      " Eight of Hearts\n",
      " Five of Spades\n",
      " Queen of Spades\n",
      " Nine of Spades\n",
      " Two of Clubs\n",
      " Ace of Diamonds\n",
      " Two of Spades\n",
      " Six of Clubs\n"
     ]
    }
   ],
   "source": [
    "print(d)"
   ]
  },
  {
   "cell_type": "code",
   "execution_count": 45,
   "id": "03b75948",
   "metadata": {},
   "outputs": [],
   "source": [
    "# PLAYER CLASS -  Hold the information about the cards the player are having\n",
    "\n",
    "\n",
    "class Player():\n",
    "    \n",
    "    def __init__(self,name):\n",
    "        self.cards = []\n",
    "        self.name = name\n",
    "        \n",
    "    def add(self,new_cards):\n",
    "        self.cards.extend(new_cards)\n",
    "        \n",
    "    def move(self):\n",
    "        return self.cards.pop(0)\n",
    "    \n",
    "    def __str__(self):\n",
    "        ans = ''\n",
    "        \n",
    "        for cards in self.cards:\n",
    "            ans = '\\n'+cards.__str__()\n",
    "            \n",
    "        return self.name + ' has the following cards' +ans\n",
    "    \n",
    "    \n",
    "    def __len__(self):\n",
    "        return len(self.cards)\n",
    "    \n",
    "        "
   ]
  },
  {
   "cell_type": "code",
   "execution_count": 46,
   "id": "2d7b8f4c",
   "metadata": {},
   "outputs": [],
   "source": [
    "# TABLE CLASS Holds the information about the cards on table.\n",
    "\n",
    "class Table:\n",
    "    \n",
    "    def __init__(self):\n",
    "        self.cards = []\n",
    "        \n",
    "    def add(self,new_cards):\n",
    "        self.cards.append(new_cards)\n",
    "        \n",
    "        \n",
    "    def remove(self):\n",
    "        self.cards = []\n",
    "        \n",
    "        \n",
    "    def __str__(self):\n",
    "        ans = ''\n",
    "        \n",
    "        for cards in self.cards:\n",
    "            ans += '\\n'+cards.__str__()\n",
    "            \n",
    "        return 'Table has these following cards ' + ans\n",
    "    \n",
    "        \n",
    "    def __len__(self):\n",
    "        return len(self.cards)\n",
    "\n"
   ]
  },
  {
   "cell_type": "code",
   "execution_count": null,
   "id": "71a512ff",
   "metadata": {},
   "outputs": [],
   "source": []
  }
 ],
 "metadata": {
  "kernelspec": {
   "display_name": "Python 3 (ipykernel)",
   "language": "python",
   "name": "python3"
  },
  "language_info": {
   "codemirror_mode": {
    "name": "ipython",
    "version": 3
   },
   "file_extension": ".py",
   "mimetype": "text/x-python",
   "name": "python",
   "nbconvert_exporter": "python",
   "pygments_lexer": "ipython3",
   "version": "3.9.7"
  }
 },
 "nbformat": 4,
 "nbformat_minor": 5
}
