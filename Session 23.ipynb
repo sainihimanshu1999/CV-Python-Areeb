{
 "cells": [
  {
   "cell_type": "code",
   "execution_count": 1,
   "id": "33c595f8",
   "metadata": {},
   "outputs": [],
   "source": [
    "#to change the icon using icon bit map"
   ]
  },
  {
   "cell_type": "code",
   "execution_count": 23,
   "id": "e1a89ba4",
   "metadata": {},
   "outputs": [],
   "source": [
    "from tkinter import *\n",
    "import PIL\n",
    "from PIL import ImageTk,Image"
   ]
  },
  {
   "cell_type": "code",
   "execution_count": 29,
   "id": "5fc448a4",
   "metadata": {},
   "outputs": [],
   "source": [
    "root = Tk()"
   ]
  },
  {
   "cell_type": "code",
   "execution_count": 30,
   "id": "f1c570d8",
   "metadata": {},
   "outputs": [
    {
     "data": {
      "text/plain": [
       "''"
      ]
     },
     "execution_count": 30,
     "metadata": {},
     "output_type": "execute_result"
    }
   ],
   "source": [
    "root.title('Areeb')"
   ]
  },
  {
   "cell_type": "code",
   "execution_count": 31,
   "id": "be59b416",
   "metadata": {},
   "outputs": [
    {
     "data": {
      "text/plain": [
       "''"
      ]
     },
     "execution_count": 31,
     "metadata": {},
     "output_type": "execute_result"
    }
   ],
   "source": [
    "root.geometry('300x150')"
   ]
  },
  {
   "cell_type": "code",
   "execution_count": 32,
   "id": "ded76b1b",
   "metadata": {},
   "outputs": [],
   "source": [
    "w = Label(root,text='Areeb',font='50')"
   ]
  },
  {
   "cell_type": "code",
   "execution_count": 33,
   "id": "38cf9157",
   "metadata": {},
   "outputs": [],
   "source": [
    "w.pack()"
   ]
  },
  {
   "cell_type": "code",
   "execution_count": 34,
   "id": "c4ba24ae",
   "metadata": {},
   "outputs": [],
   "source": [
    "frame = Frame(root)"
   ]
  },
  {
   "cell_type": "code",
   "execution_count": 35,
   "id": "29c443ec",
   "metadata": {},
   "outputs": [],
   "source": [
    "frame.pack()"
   ]
  },
  {
   "cell_type": "code",
   "execution_count": 36,
   "id": "d2494d38",
   "metadata": {},
   "outputs": [],
   "source": [
    "bottomFrame = Frame(root)"
   ]
  },
  {
   "cell_type": "code",
   "execution_count": 37,
   "id": "cc0ee467",
   "metadata": {},
   "outputs": [],
   "source": [
    "bottomFrame.pack(side=BOTTOM)"
   ]
  },
  {
   "cell_type": "code",
   "execution_count": 38,
   "id": "582e0e42",
   "metadata": {},
   "outputs": [],
   "source": [
    "b1_button = Button(frame, text='user1',fg='red')"
   ]
  },
  {
   "cell_type": "code",
   "execution_count": 40,
   "id": "bdc9134c",
   "metadata": {},
   "outputs": [],
   "source": [
    "b1_button.pack(side=LEFT)"
   ]
  },
  {
   "cell_type": "code",
   "execution_count": 41,
   "id": "11f958e0",
   "metadata": {},
   "outputs": [],
   "source": [
    "b2_button = Button(frame,text='user2',fg='brown')"
   ]
  },
  {
   "cell_type": "code",
   "execution_count": 42,
   "id": "c0c918a7",
   "metadata": {},
   "outputs": [],
   "source": [
    "b2_button.pack(side=LEFT)"
   ]
  },
  {
   "cell_type": "code",
   "execution_count": 43,
   "id": "d45b8a6b",
   "metadata": {},
   "outputs": [],
   "source": [
    "b3_button = Button(frame,text='user3',fg='blue')"
   ]
  },
  {
   "cell_type": "code",
   "execution_count": 44,
   "id": "a730d4c6",
   "metadata": {},
   "outputs": [],
   "source": [
    "b3_button.pack(side=LEFT)"
   ]
  },
  {
   "cell_type": "code",
   "execution_count": 45,
   "id": "ae0630a3",
   "metadata": {},
   "outputs": [],
   "source": [
    "b4_button = Button(bottomFrame, text='user4',fg='green')\n",
    "b4_button.pack(side=BOTTOM)"
   ]
  },
  {
   "cell_type": "code",
   "execution_count": 46,
   "id": "fc83114d",
   "metadata": {},
   "outputs": [],
   "source": [
    "b5_button = Button(bottomFrame, text='user5',fg='green')\n",
    "b5_button.pack(side=BOTTOM)"
   ]
  },
  {
   "cell_type": "code",
   "execution_count": 47,
   "id": "94f6820f",
   "metadata": {},
   "outputs": [],
   "source": [
    "b6_button = Button(bottomFrame, text='user6',fg='green')\n",
    "b6_button.pack(side=BOTTOM)"
   ]
  },
  {
   "cell_type": "code",
   "execution_count": 48,
   "id": "726ffc25",
   "metadata": {},
   "outputs": [],
   "source": [
    "root.mainloop()"
   ]
  },
  {
   "cell_type": "code",
   "execution_count": null,
   "id": "527b172a",
   "metadata": {},
   "outputs": [],
   "source": []
  }
 ],
 "metadata": {
  "kernelspec": {
   "display_name": "Python 3 (ipykernel)",
   "language": "python",
   "name": "python3"
  },
  "language_info": {
   "codemirror_mode": {
    "name": "ipython",
    "version": 3
   },
   "file_extension": ".py",
   "mimetype": "text/x-python",
   "name": "python",
   "nbconvert_exporter": "python",
   "pygments_lexer": "ipython3",
   "version": "3.9.7"
  }
 },
 "nbformat": 4,
 "nbformat_minor": 5
}
