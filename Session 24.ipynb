{
 "cells": [
  {
   "cell_type": "code",
   "execution_count": 1,
   "id": "57ad0e47",
   "metadata": {},
   "outputs": [],
   "source": [
    "from tkinter import *\n",
    "from tkinter.ttk import *"
   ]
  },
  {
   "cell_type": "code",
   "execution_count": 2,
   "id": "181f06d5",
   "metadata": {},
   "outputs": [],
   "source": [
    "master = Tk()"
   ]
  },
  {
   "cell_type": "code",
   "execution_count": 3,
   "id": "899508d8",
   "metadata": {},
   "outputs": [
    {
     "data": {
      "text/plain": [
       "''"
      ]
     },
     "execution_count": 3,
     "metadata": {},
     "output_type": "execute_result"
    }
   ],
   "source": [
    "master.geometry('200x200')"
   ]
  },
  {
   "cell_type": "code",
   "execution_count": 4,
   "id": "43071910",
   "metadata": {},
   "outputs": [],
   "source": [
    "b1 = Button(master,text='Click me')"
   ]
  },
  {
   "cell_type": "code",
   "execution_count": 5,
   "id": "fe3d59cf",
   "metadata": {},
   "outputs": [],
   "source": [
    "b1.place(relx=1,x=-2,y=2,anchor=NE)"
   ]
  },
  {
   "cell_type": "code",
   "execution_count": 6,
   "id": "b19f4455",
   "metadata": {},
   "outputs": [],
   "source": [
    "l = Label(master,text='Hi i am Areeb')\n"
   ]
  },
  {
   "cell_type": "code",
   "execution_count": 7,
   "id": "72c46df0",
   "metadata": {},
   "outputs": [],
   "source": [
    "l.place(anchor=NW)"
   ]
  },
  {
   "cell_type": "code",
   "execution_count": 9,
   "id": "6a0e6c33",
   "metadata": {},
   "outputs": [],
   "source": [
    "b2 = Button(master,text='click me part 2')"
   ]
  },
  {
   "cell_type": "code",
   "execution_count": 11,
   "id": "a65a11cc",
   "metadata": {},
   "outputs": [],
   "source": [
    "b2.place(relx=0.5,rely=0.5,anchor=CENTER)"
   ]
  },
  {
   "cell_type": "code",
   "execution_count": 12,
   "id": "528a4355",
   "metadata": {},
   "outputs": [],
   "source": [
    "mainloop()"
   ]
  },
  {
   "cell_type": "code",
   "execution_count": 25,
   "id": "007c5ec1",
   "metadata": {},
   "outputs": [],
   "source": [
    "root = Tk()"
   ]
  },
  {
   "cell_type": "code",
   "execution_count": 26,
   "id": "2310d48a",
   "metadata": {},
   "outputs": [
    {
     "data": {
      "text/plain": [
       "''"
      ]
     },
     "execution_count": 26,
     "metadata": {},
     "output_type": "execute_result"
    }
   ],
   "source": [
    "root.geometry('250x250')"
   ]
  },
  {
   "cell_type": "code",
   "execution_count": 27,
   "id": "0d197789",
   "metadata": {},
   "outputs": [],
   "source": [
    "label_frame = LabelFrame(root,text='This is a label frame')"
   ]
  },
  {
   "cell_type": "code",
   "execution_count": 28,
   "id": "c8623b00",
   "metadata": {},
   "outputs": [],
   "source": [
    "label_frame.pack(expand='yes',fill='both')"
   ]
  },
  {
   "cell_type": "code",
   "execution_count": 29,
   "id": "7e8cfb08",
   "metadata": {},
   "outputs": [],
   "source": [
    "label1 = Label(label_frame,text='1. this is label1')"
   ]
  },
  {
   "cell_type": "code",
   "execution_count": 30,
   "id": "3a11c55a",
   "metadata": {},
   "outputs": [],
   "source": [
    "label1.place(x=0,y=5)"
   ]
  },
  {
   "cell_type": "code",
   "execution_count": 31,
   "id": "ded57e73",
   "metadata": {},
   "outputs": [],
   "source": [
    "label2 = Label(label_frame,text='2. this is label2')\n",
    "label2.place(x=0,y=35)"
   ]
  },
  {
   "cell_type": "code",
   "execution_count": 32,
   "id": "89154573",
   "metadata": {},
   "outputs": [],
   "source": [
    "label3 = Label(label_frame,text='3. this is label')\n",
    "label3.place(x=0,y=65)"
   ]
  },
  {
   "cell_type": "code",
   "execution_count": 33,
   "id": "733ee4d9",
   "metadata": {},
   "outputs": [],
   "source": [
    "root.mainloop()"
   ]
  },
  {
   "cell_type": "code",
   "execution_count": 51,
   "id": "d5bd10f0",
   "metadata": {},
   "outputs": [],
   "source": [
    "ms = Tk()"
   ]
  },
  {
   "cell_type": "code",
   "execution_count": 52,
   "id": "22566820",
   "metadata": {},
   "outputs": [],
   "source": [
    "r = IntVar()"
   ]
  },
  {
   "cell_type": "code",
   "execution_count": 53,
   "id": "a667ca4b",
   "metadata": {},
   "outputs": [],
   "source": [
    "def clicked(value):\n",
    "    myLabel = Label(ms,text=value)\n",
    "    myLabel.pack()"
   ]
  },
  {
   "cell_type": "code",
   "execution_count": 54,
   "id": "689cd42f",
   "metadata": {},
   "outputs": [],
   "source": [
    "Radiobutton(ms,text='Ice cream', variable=r, value=1, command=lambda:clicked(r.get())).pack()"
   ]
  },
  {
   "cell_type": "code",
   "execution_count": 57,
   "id": "066e1dbf",
   "metadata": {},
   "outputs": [],
   "source": [
    "Radiobutton(ms,text='Pizza', variable=r, value=2, command=lambda:clicked(r.get())).pack()"
   ]
  },
  {
   "cell_type": "code",
   "execution_count": 58,
   "id": "2456080b",
   "metadata": {},
   "outputs": [],
   "source": [
    "ms.mainloop()"
   ]
  },
  {
   "cell_type": "code",
   "execution_count": null,
   "id": "c204a917",
   "metadata": {},
   "outputs": [],
   "source": []
  }
 ],
 "metadata": {
  "kernelspec": {
   "display_name": "Python 3 (ipykernel)",
   "language": "python",
   "name": "python3"
  },
  "language_info": {
   "codemirror_mode": {
    "name": "ipython",
    "version": 3
   },
   "file_extension": ".py",
   "mimetype": "text/x-python",
   "name": "python",
   "nbconvert_exporter": "python",
   "pygments_lexer": "ipython3",
   "version": "3.9.7"
  }
 },
 "nbformat": 4,
 "nbformat_minor": 5
}
