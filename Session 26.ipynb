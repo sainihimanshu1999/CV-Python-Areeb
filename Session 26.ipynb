{
 "cells": [
  {
   "cell_type": "code",
   "execution_count": 1,
   "id": "3838014d",
   "metadata": {},
   "outputs": [],
   "source": [
    "# Sliders"
   ]
  },
  {
   "cell_type": "code",
   "execution_count": 3,
   "id": "0a1b6b52",
   "metadata": {},
   "outputs": [],
   "source": [
    "from tkinter import *"
   ]
  },
  {
   "cell_type": "code",
   "execution_count": 11,
   "id": "693eac14",
   "metadata": {},
   "outputs": [],
   "source": [
    "root = Tk()"
   ]
  },
  {
   "cell_type": "code",
   "execution_count": 12,
   "id": "ce201bf1",
   "metadata": {},
   "outputs": [
    {
     "data": {
      "text/plain": [
       "''"
      ]
     },
     "execution_count": 12,
     "metadata": {},
     "output_type": "execute_result"
    }
   ],
   "source": [
    "root.geometry('400x300')"
   ]
  },
  {
   "cell_type": "code",
   "execution_count": 13,
   "id": "d9623f88",
   "metadata": {},
   "outputs": [],
   "source": [
    "v1 = DoubleVar()"
   ]
  },
  {
   "cell_type": "code",
   "execution_count": 14,
   "id": "afcb4c3d",
   "metadata": {},
   "outputs": [],
   "source": [
    "def show1():\n",
    "    sel = 'horizontal scale value = ' + str(v1.get())\n",
    "    l1.config(text=sel,font=('courier',14))"
   ]
  },
  {
   "cell_type": "code",
   "execution_count": 15,
   "id": "71e6431a",
   "metadata": {},
   "outputs": [],
   "source": [
    "s1 = Scale(root,variable=v1,from_=1, to_=200,orient=HORIZONTAL)\n",
    "l3 = Label(root,text='Horizontal scaler')\n",
    "b1 = Button(root,text='Display horizontal',command = show1,bg='green')\n"
   ]
  },
  {
   "cell_type": "code",
   "execution_count": 16,
   "id": "3fcf262b",
   "metadata": {},
   "outputs": [],
   "source": [
    "l1 = Label(root)\n",
    "s1.pack(anchor=CENTER)\n",
    "l3.pack()\n",
    "b1.pack(anchor=CENTER)\n",
    "l1.pack()"
   ]
  },
  {
   "cell_type": "code",
   "execution_count": 17,
   "id": "b4f79fa1",
   "metadata": {},
   "outputs": [],
   "source": [
    "root.mainloop()"
   ]
  },
  {
   "cell_type": "code",
   "execution_count": null,
   "id": "ee19308a",
   "metadata": {},
   "outputs": [],
   "source": []
  }
 ],
 "metadata": {
  "kernelspec": {
   "display_name": "Python 3 (ipykernel)",
   "language": "python",
   "name": "python3"
  },
  "language_info": {
   "codemirror_mode": {
    "name": "ipython",
    "version": 3
   },
   "file_extension": ".py",
   "mimetype": "text/x-python",
   "name": "python",
   "nbconvert_exporter": "python",
   "pygments_lexer": "ipython3",
   "version": "3.9.7"
  }
 },
 "nbformat": 4,
 "nbformat_minor": 5
}
