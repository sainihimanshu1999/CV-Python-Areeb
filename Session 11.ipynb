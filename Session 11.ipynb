{
 "cells": [
  {
   "cell_type": "code",
   "execution_count": 1,
   "id": "f495e4d5",
   "metadata": {},
   "outputs": [],
   "source": [
    "# FUNCTIONS and METHODS"
   ]
  },
  {
   "cell_type": "code",
   "execution_count": 2,
   "id": "3fd1a83d",
   "metadata": {},
   "outputs": [],
   "source": [
    "# Functions are basically sometheing which helps us to not to repeat code again and again"
   ]
  },
  {
   "cell_type": "code",
   "execution_count": 3,
   "id": "2a46a3dd",
   "metadata": {},
   "outputs": [],
   "source": [
    "#methods len append sort, these are basically fucntions which are used on some objects"
   ]
  },
  {
   "cell_type": "code",
   "execution_count": 4,
   "id": "802b53db",
   "metadata": {},
   "outputs": [],
   "source": [
    "# scope is nothing but, visibility of the variable"
   ]
  },
  {
   "cell_type": "code",
   "execution_count": 5,
   "id": "ba7cd3b4",
   "metadata": {},
   "outputs": [],
   "source": [
    "# there are broadly two types of scope - LOCAL AND GLOBAL"
   ]
  },
  {
   "cell_type": "code",
   "execution_count": 8,
   "id": "5b4e7ed0",
   "metadata": {},
   "outputs": [
    {
     "name": "stdout",
     "output_type": "stream",
     "text": [
      "1\n",
      "3\n"
     ]
    }
   ],
   "source": [
    "# x here is global variable\n",
    "x = 1\n",
    "\n",
    "def func():\n",
    "    # x is a local variable \n",
    "    x = 3\n",
    "    print(x)\n",
    "    \n",
    "print(x)\n",
    "func()"
   ]
  },
  {
   "cell_type": "code",
   "execution_count": 9,
   "id": "743faa3b",
   "metadata": {},
   "outputs": [
    {
     "name": "stdout",
     "output_type": "stream",
     "text": [
      "0\n",
      "1\n",
      "2\n",
      "3\n",
      "4\n",
      "5\n",
      "6\n",
      "7\n",
      "8\n",
      "9\n"
     ]
    }
   ],
   "source": [
    "# range built in functions\n",
    "for i in range(10):\n",
    "    print(i)"
   ]
  },
  {
   "cell_type": "code",
   "execution_count": 10,
   "id": "0d720e3f",
   "metadata": {},
   "outputs": [],
   "source": [
    "#LEGB RULES EXAMPLES"
   ]
  },
  {
   "cell_type": "code",
   "execution_count": 15,
   "id": "f5544547",
   "metadata": {},
   "outputs": [
    {
     "name": "stdout",
     "output_type": "stream",
     "text": [
      "1\n",
      "3\n",
      "3\n",
      "3\n",
      "4\n"
     ]
    }
   ],
   "source": [
    "x  =1 # global\n",
    "\n",
    "def func():\n",
    "    global x\n",
    "    x = 3 #converted local x in to global x with this statement\n",
    "    print(x)\n",
    "    \n",
    "print(x)   \n",
    "func()\n",
    "\n",
    "print(x)\n",
    "print(x)\n",
    "\n",
    "x  =4\n",
    "print(x)"
   ]
  },
  {
   "cell_type": "code",
   "execution_count": 16,
   "id": "4858cbc0",
   "metadata": {},
   "outputs": [],
   "source": [
    "# predict the output"
   ]
  },
  {
   "cell_type": "code",
   "execution_count": 24,
   "id": "3985d886",
   "metadata": {},
   "outputs": [],
   "source": [
    "x  = 3\n",
    "y  = 5\n",
    "\n",
    "def func(y):\n",
    "    global x\n",
    "    y = y+x\n",
    "    x = x+y\n",
    "    \n",
    "func(y)\n",
    "\n",
    "# x = 3, y =5\n",
    "# func(5), global x\n",
    "# y = y+x = y = 5+3= 8\n",
    "# x = x+y = 3+8 = 11\n",
    "\n",
    "# func(5)\n",
    "# x = 11\n"
   ]
  },
  {
   "cell_type": "code",
   "execution_count": 25,
   "id": "f899a8e0",
   "metadata": {},
   "outputs": [
    {
     "name": "stdout",
     "output_type": "stream",
     "text": [
      "11 5\n"
     ]
    }
   ],
   "source": [
    "print(x,y)"
   ]
  },
  {
   "cell_type": "code",
   "execution_count": 26,
   "id": "a164127b",
   "metadata": {},
   "outputs": [],
   "source": [
    "x = 5\n",
    "y = 8\n",
    "\n",
    "def func(x):\n",
    "    global y\n",
    "    x = x*y + x\n",
    "    y = y*x +y\n",
    "    \n",
    "func(x)\n",
    "\n",
    "#func(5)\n",
    "# x = 5*8 + 5 = 40+5 = 45\n",
    "# y = 8*45 +8 = 360+8 =368\n",
    "\n",
    "# y becomes global y = 368\n"
   ]
  },
  {
   "cell_type": "code",
   "execution_count": 27,
   "id": "95071cc0",
   "metadata": {},
   "outputs": [
    {
     "name": "stdout",
     "output_type": "stream",
     "text": [
      "5 368\n"
     ]
    }
   ],
   "source": [
    "print(x,y)"
   ]
  },
  {
   "cell_type": "code",
   "execution_count": 28,
   "id": "aec1687b",
   "metadata": {},
   "outputs": [],
   "source": [
    "# function \n",
    "# def fun_name(arg1,agr2......):\n",
    "    #whatever\n",
    "    #return\n",
    "# call the function"
   ]
  },
  {
   "cell_type": "code",
   "execution_count": null,
   "id": "904a45b6",
   "metadata": {},
   "outputs": [],
   "source": [
    "# map function\n",
    "# map (arg1,arg2)\n",
    "#agr 1 - function itself\n",
    "# map(func1, arg2)"
   ]
  },
  {
   "cell_type": "code",
   "execution_count": null,
   "id": "f8363f66",
   "metadata": {},
   "outputs": [],
   "source": [
    "#map function examples"
   ]
  },
  {
   "cell_type": "code",
   "execution_count": 29,
   "id": "5092253a",
   "metadata": {},
   "outputs": [],
   "source": [
    "nums = [1,2,3,4,5,6,7,8]"
   ]
  },
  {
   "cell_type": "code",
   "execution_count": 30,
   "id": "5d3d3698",
   "metadata": {},
   "outputs": [],
   "source": [
    "def func(x):\n",
    "    return x*x"
   ]
  },
  {
   "cell_type": "code",
   "execution_count": 34,
   "id": "c6650506",
   "metadata": {},
   "outputs": [
    {
     "data": {
      "text/plain": [
       "[1, 4, 9, 16, 25, 36, 49, 64]"
      ]
     },
     "execution_count": 34,
     "metadata": {},
     "output_type": "execute_result"
    }
   ],
   "source": [
    "list(map(func,nums))"
   ]
  },
  {
   "cell_type": "code",
   "execution_count": null,
   "id": "2b569737",
   "metadata": {},
   "outputs": [],
   "source": [
    "# filter function\n",
    "# filter(func,arg2)\n"
   ]
  },
  {
   "cell_type": "code",
   "execution_count": 39,
   "id": "ed742d7d",
   "metadata": {},
   "outputs": [],
   "source": [
    "def checker(x):\n",
    "    return x%2==0"
   ]
  },
  {
   "cell_type": "code",
   "execution_count": 40,
   "id": "72a55397",
   "metadata": {},
   "outputs": [
    {
     "data": {
      "text/plain": [
       "False"
      ]
     },
     "execution_count": 40,
     "metadata": {},
     "output_type": "execute_result"
    }
   ],
   "source": [
    "checker(9)"
   ]
  },
  {
   "cell_type": "code",
   "execution_count": 41,
   "id": "b636c01e",
   "metadata": {},
   "outputs": [
    {
     "name": "stdout",
     "output_type": "stream",
     "text": [
      "[1, 2, 3, 4, 5, 6, 7, 8]\n"
     ]
    }
   ],
   "source": [
    "print(nums)"
   ]
  },
  {
   "cell_type": "code",
   "execution_count": 43,
   "id": "45b6dc4a",
   "metadata": {},
   "outputs": [
    {
     "data": {
      "text/plain": [
       "[2, 4, 6, 8]"
      ]
     },
     "execution_count": 43,
     "metadata": {},
     "output_type": "execute_result"
    }
   ],
   "source": [
    "list(filter(checker,nums))"
   ]
  },
  {
   "cell_type": "code",
   "execution_count": 44,
   "id": "f81502a6",
   "metadata": {},
   "outputs": [],
   "source": [
    "# function to find the square"
   ]
  },
  {
   "cell_type": "code",
   "execution_count": 45,
   "id": "becb3fa8",
   "metadata": {},
   "outputs": [],
   "source": [
    "def func(x):\n",
    "    return x*x"
   ]
  },
  {
   "cell_type": "code",
   "execution_count": 47,
   "id": "1337fb74",
   "metadata": {},
   "outputs": [
    {
     "data": {
      "text/plain": [
       "16"
      ]
     },
     "execution_count": 47,
     "metadata": {},
     "output_type": "execute_result"
    }
   ],
   "source": [
    "func(4)"
   ]
  },
  {
   "cell_type": "code",
   "execution_count": 48,
   "id": "ee701690",
   "metadata": {},
   "outputs": [
    {
     "data": {
      "text/plain": [
       "<function __main__.<lambda>(x)>"
      ]
     },
     "execution_count": 48,
     "metadata": {},
     "output_type": "execute_result"
    }
   ],
   "source": [
    "lambda x:x*x"
   ]
  },
  {
   "cell_type": "code",
   "execution_count": 49,
   "id": "02e1c2a9",
   "metadata": {},
   "outputs": [
    {
     "data": {
      "text/plain": [
       "[1, 4, 9, 16, 25, 36, 49, 64]"
      ]
     },
     "execution_count": 49,
     "metadata": {},
     "output_type": "execute_result"
    }
   ],
   "source": [
    "list(map(lambda x:x*x, nums))"
   ]
  },
  {
   "cell_type": "code",
   "execution_count": null,
   "id": "96dab4e5",
   "metadata": {},
   "outputs": [],
   "source": []
  }
 ],
 "metadata": {
  "kernelspec": {
   "display_name": "Python 3 (ipykernel)",
   "language": "python",
   "name": "python3"
  },
  "language_info": {
   "codemirror_mode": {
    "name": "ipython",
    "version": 3
   },
   "file_extension": ".py",
   "mimetype": "text/x-python",
   "name": "python",
   "nbconvert_exporter": "python",
   "pygments_lexer": "ipython3",
   "version": "3.9.7"
  }
 },
 "nbformat": 4,
 "nbformat_minor": 5
}
